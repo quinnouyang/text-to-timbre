{
 "cells": [
  {
   "cell_type": "code",
   "execution_count": 1,
   "metadata": {},
   "outputs": [
    {
     "ename": "ModuleNotFoundError",
     "evalue": "No module named 'torch'",
     "output_type": "error",
     "traceback": [
      "\u001b[0;31m---------------------------------------------------------------------------\u001b[0m",
      "\u001b[0;31mModuleNotFoundError\u001b[0m                       Traceback (most recent call last)",
      "Cell \u001b[0;32mIn[1], line 1\u001b[0m\n\u001b[0;32m----> 1\u001b[0m \u001b[38;5;28;01mimport\u001b[39;00m \u001b[38;5;21;01mtorch\u001b[39;00m\n\u001b[1;32m      3\u001b[0m \u001b[38;5;28;01mfrom\u001b[39;00m \u001b[38;5;21;01mdatetime\u001b[39;00m \u001b[38;5;28;01mimport\u001b[39;00m datetime\n\u001b[1;32m      4\u001b[0m \u001b[38;5;28;01mfrom\u001b[39;00m \u001b[38;5;21;01mtorch\u001b[39;00m\u001b[38;5;21;01m.\u001b[39;00m\u001b[38;5;21;01mutils\u001b[39;00m\u001b[38;5;21;01m.\u001b[39;00m\u001b[38;5;21;01mtensorboard\u001b[39;00m\u001b[38;5;21;01m.\u001b[39;00m\u001b[38;5;21;01mwriter\u001b[39;00m \u001b[38;5;28;01mimport\u001b[39;00m SummaryWriter\n",
      "\u001b[0;31mModuleNotFoundError\u001b[0m: No module named 'torch'"
     ]
    }
   ],
   "source": [
    "import torch\n",
    "\n",
    "from datetime import datetime\n",
    "from torch.utils.tensorboard.writer import SummaryWriter\n",
    "from reference_models.heidenreich.vae import VAE\n",
    "from tqdm import tqdm\n",
    "from torchvision import datasets\n",
    "from torchvision.transforms import v2\n",
    "\n",
    "\n",
    "batch_size = 128\n",
    "transform = v2.Compose(\n",
    "    [\n",
    "        v2.ToImage(),\n",
    "        v2.ToDtype(torch.float32, scale=True),\n",
    "        v2.Lambda(lambda x: x.view(-1) - 0.5),\n",
    "    ]\n",
    ")\n",
    "\n",
    "# Download and load the training data\n",
    "train_data = datasets.MNIST(\n",
    "    \"~/.pytorch/MNIST_data/\",\n",
    "    download=True,\n",
    "    train=True,\n",
    "    transform=transform,\n",
    ")\n",
    "# Download and load the test data\n",
    "test_data = datasets.MNIST(\n",
    "    \"~/.pytorch/MNIST_data/\",\n",
    "    download=True,\n",
    "    train=False,\n",
    "    transform=transform,\n",
    ")\n",
    "\n",
    "# Create data loaders\n",
    "train_loader = torch.utils.data.DataLoader(\n",
    "    train_data, batch_size=batch_size, shuffle=True, num_workers=8, pin_memory=True\n",
    ")\n",
    "test_loader = torch.utils.data.DataLoader(\n",
    "    test_data, batch_size=batch_size, shuffle=False, num_workers=8, pin_memory=True\n",
    ")"
   ]
  },
  {
   "cell_type": "code",
   "execution_count": 2,
   "metadata": {},
   "outputs": [],
   "source": [
    "learning_rate = 1e-3\n",
    "weight_decay = 1e-2\n",
    "num_epochs = 50\n",
    "latent_dim = 2\n",
    "hidden_dim = 512\n",
    "\n",
    "device = torch.device(\n",
    "    \"cuda\"\n",
    "    if torch.cuda.is_available()\n",
    "    else \"mps\" if torch.backends.mps.is_available() else \"cpu\"\n",
    ")\n",
    "model = VAE(input_dim=784, hidden_dim=hidden_dim, latent_dim=latent_dim).to(device)\n",
    "optimizer = torch.optim.AdamW(model.parameters(), weight_decay=weight_decay)\n",
    "writer = SummaryWriter(f'runs/mnist/vae_{datetime.now().strftime(\"%Y%m%d-%H%M%S\")}')"
   ]
  },
  {
   "cell_type": "code",
   "execution_count": 3,
   "metadata": {},
   "outputs": [],
   "source": [
    "def train(model, dataloader, optimizer, prev_updates, writer=None):\n",
    "    \"\"\"\n",
    "    Trains the model on the given data.\n",
    "\n",
    "    Args:\n",
    "        model (nn.Module): The model to train.\n",
    "        dataloader (torch.utils.data.DataLoader): The data loader.\n",
    "        loss_fn: The loss function.\n",
    "        optimizer: The optimizer.\n",
    "    \"\"\"\n",
    "    model.train()  # Set the model to training mode\n",
    "\n",
    "    for batch_idx, (data, target) in enumerate(tqdm(dataloader)):\n",
    "        n_upd = prev_updates + batch_idx\n",
    "\n",
    "        data = data.to(device)\n",
    "\n",
    "        # optimizer.zero_grad()  # Zero the gradients\n",
    "        for param in model.parameters():\n",
    "            param.grad = None\n",
    "\n",
    "        output = model(data)  # Forward pass\n",
    "        loss = output.loss\n",
    "\n",
    "        loss.backward()\n",
    "\n",
    "        if n_upd % 100 == 0:\n",
    "            # Calculate and log gradient norms\n",
    "            total_norm = 0.0\n",
    "            for p in model.parameters():\n",
    "                if p.grad is not None:\n",
    "                    param_norm = p.grad.data.norm(2)\n",
    "                    total_norm += param_norm.item() ** 2\n",
    "            total_norm = total_norm ** (1.0 / 2)\n",
    "\n",
    "            print(\n",
    "                f\"Step {n_upd:,} (N samples: {n_upd*batch_size:,}), Loss: {loss.item():.4f} (Recon: {output.loss_recon.item():.4f}, KL: {output.loss_kl.item():.4f}) Grad: {total_norm:.4f}\"\n",
    "            )\n",
    "\n",
    "            if writer is not None:\n",
    "                global_step = n_upd\n",
    "                writer.add_scalar(\"Loss/Train\", loss.item(), global_step)\n",
    "                writer.add_scalar(\n",
    "                    \"Loss/Train/BCE\", output.loss_recon.item(), global_step\n",
    "                )\n",
    "                writer.add_scalar(\"Loss/Train/KLD\", output.loss_kl.item(), global_step)\n",
    "                writer.add_scalar(\"GradNorm/Train\", total_norm, global_step)\n",
    "\n",
    "        # gradient clipping\n",
    "        torch.nn.utils.clip_grad_norm_(model.parameters(), 1.0)\n",
    "\n",
    "        optimizer.step()  # Update the model parameters\n",
    "\n",
    "    return prev_updates + len(dataloader)\n",
    "\n",
    "\n",
    "def test(model, dataloader, cur_step, writer=None):\n",
    "    \"\"\"\n",
    "    Tests the model on the given data.\n",
    "\n",
    "    Args:\n",
    "        model (nn.Module): The model to test.\n",
    "        dataloader (torch.utils.data.DataLoader): The data loader.\n",
    "        cur_step (int): The current step.\n",
    "        writer: The TensorBoard writer.\n",
    "    \"\"\"\n",
    "    model.eval()  # Set the model to evaluation mode\n",
    "    test_loss = 0\n",
    "    test_recon_loss = 0\n",
    "    test_kl_loss = 0\n",
    "\n",
    "    with torch.no_grad():\n",
    "        for data, target in tqdm(dataloader, desc=\"Testing\"):\n",
    "            data = data.to(device)\n",
    "            data = data.view(data.size(0), -1)  # Flatten the data\n",
    "\n",
    "            output = model(data, compute_loss=True)  # Forward pass\n",
    "\n",
    "            test_loss += output.loss.item()\n",
    "            test_recon_loss += output.loss_recon.item()\n",
    "            test_kl_loss += output.loss_kl.item()\n",
    "\n",
    "    test_loss /= len(dataloader)\n",
    "    test_recon_loss /= len(dataloader)\n",
    "    test_kl_loss /= len(dataloader)\n",
    "    print(\n",
    "        f\"====> Test set loss: {test_loss:.4f} (BCE: {test_recon_loss:.4f}, KLD: {test_kl_loss:.4f})\"\n",
    "    )\n",
    "\n",
    "    if writer is not None:\n",
    "        writer.add_scalar(\"Loss/Test\", test_loss, global_step=cur_step)\n",
    "        writer.add_scalar(\n",
    "            \"Loss/Test/BCE\", output.loss_recon.item(), global_step=cur_step\n",
    "        )\n",
    "        writer.add_scalar(\"Loss/Test/KLD\", output.loss_kl.item(), global_step=cur_step)\n",
    "\n",
    "        # Log reconstructions\n",
    "        writer.add_images(\n",
    "            \"Test/Reconstructions\",\n",
    "            output.x_recon.view(-1, 1, 28, 28),\n",
    "            global_step=cur_step,\n",
    "        )\n",
    "        writer.add_images(\n",
    "            \"Test/Originals\", data.view(-1, 1, 28, 28), global_step=cur_step\n",
    "        )\n",
    "\n",
    "        # Log random samples from the latent space\n",
    "        z = torch.randn(16, latent_dim).to(device)\n",
    "        samples = model.decode(z)\n",
    "        writer.add_images(\n",
    "            \"Test/Samples\", samples.view(-1, 1, 28, 28), global_step=cur_step\n",
    "        )"
   ]
  },
  {
   "cell_type": "code",
   "execution_count": 4,
   "metadata": {},
   "outputs": [
    {
     "name": "stdout",
     "output_type": "stream",
     "text": [
      "Epoch 1/50\n"
     ]
    },
    {
     "name": "stderr",
     "output_type": "stream",
     "text": [
      "  2%|▏         | 11/469 [00:00<00:22, 20.53it/s]"
     ]
    },
    {
     "name": "stdout",
     "output_type": "stream",
     "text": [
      "Step 0 (N samples: 0), Loss: 543.4069 (Recon: 543.2268, KL: 0.1800) Grad: 13.1147\n"
     ]
    },
    {
     "name": "stderr",
     "output_type": "stream",
     "text": [
      " 25%|██▌       | 118/469 [00:01<00:04, 83.06it/s]"
     ]
    },
    {
     "name": "stdout",
     "output_type": "stream",
     "text": [
      "Step 100 (N samples: 12,800), Loss: 184.5940 (Recon: 182.6955, KL: 1.8985) Grad: 30.1721\n"
     ]
    },
    {
     "name": "stderr",
     "output_type": "stream",
     "text": [
      " 46%|████▋     | 218/469 [00:03<00:02, 85.20it/s]"
     ]
    },
    {
     "name": "stdout",
     "output_type": "stream",
     "text": [
      "Step 200 (N samples: 25,600), Loss: 191.5056 (Recon: 189.4630, KL: 2.0426) Grad: 38.7934\n"
     ]
    },
    {
     "name": "stderr",
     "output_type": "stream",
     "text": [
      " 66%|██████▌   | 310/469 [00:04<00:01, 84.90it/s]"
     ]
    },
    {
     "name": "stdout",
     "output_type": "stream",
     "text": [
      "Step 300 (N samples: 38,400), Loss: 190.3998 (Recon: 188.1912, KL: 2.2086) Grad: 34.1212\n"
     ]
    },
    {
     "name": "stderr",
     "output_type": "stream",
     "text": [
      " 88%|████████▊ | 411/469 [00:05<00:00, 85.43it/s]"
     ]
    },
    {
     "name": "stdout",
     "output_type": "stream",
     "text": [
      "Step 400 (N samples: 51,200), Loss: 173.8468 (Recon: 169.6350, KL: 4.2118) Grad: 46.2487\n"
     ]
    },
    {
     "name": "stderr",
     "output_type": "stream",
     "text": [
      "100%|██████████| 469/469 [00:06<00:00, 77.02it/s]\n",
      "Testing: 100%|██████████| 79/79 [00:00<00:00, 85.19it/s]\n"
     ]
    },
    {
     "name": "stdout",
     "output_type": "stream",
     "text": [
      "====> Test set loss: 169.1270 (BCE: 164.6811, KLD: 4.4459)\n",
      "Epoch 2/50\n"
     ]
    },
    {
     "name": "stderr",
     "output_type": "stream",
     "text": [
      "  9%|▉         | 44/469 [00:00<00:05, 71.25it/s]"
     ]
    },
    {
     "name": "stdout",
     "output_type": "stream",
     "text": [
      "Step 500 (N samples: 64,000), Loss: 167.5432 (Recon: 162.9339, KL: 4.6093) Grad: 46.3613\n"
     ]
    },
    {
     "name": "stderr",
     "output_type": "stream",
     "text": [
      " 31%|███       | 144/469 [00:01<00:03, 85.00it/s]"
     ]
    },
    {
     "name": "stdout",
     "output_type": "stream",
     "text": [
      "Step 600 (N samples: 76,800), Loss: 160.6299 (Recon: 156.0677, KL: 4.5622) Grad: 66.5793\n"
     ]
    },
    {
     "name": "stderr",
     "output_type": "stream",
     "text": [
      " 52%|█████▏    | 243/469 [00:03<00:02, 83.99it/s]"
     ]
    },
    {
     "name": "stdout",
     "output_type": "stream",
     "text": [
      "Step 700 (N samples: 89,600), Loss: 159.4976 (Recon: 154.4976, KL: 5.0000) Grad: 67.5388\n"
     ]
    },
    {
     "name": "stderr",
     "output_type": "stream",
     "text": [
      " 73%|███████▎  | 343/469 [00:04<00:01, 85.01it/s]"
     ]
    },
    {
     "name": "stdout",
     "output_type": "stream",
     "text": [
      "Step 800 (N samples: 102,400), Loss: 156.1631 (Recon: 151.1102, KL: 5.0528) Grad: 78.3883\n"
     ]
    },
    {
     "name": "stderr",
     "output_type": "stream",
     "text": [
      " 94%|█████████▍| 443/469 [00:05<00:00, 83.20it/s]"
     ]
    },
    {
     "name": "stdout",
     "output_type": "stream",
     "text": [
      "Step 900 (N samples: 115,200), Loss: 153.6590 (Recon: 148.1729, KL: 5.4861) Grad: 60.3418\n"
     ]
    },
    {
     "name": "stderr",
     "output_type": "stream",
     "text": [
      "100%|██████████| 469/469 [00:05<00:00, 80.17it/s]\n",
      "Testing: 100%|██████████| 79/79 [00:00<00:00, 88.04it/s]\n"
     ]
    },
    {
     "name": "stdout",
     "output_type": "stream",
     "text": [
      "====> Test set loss: 156.2551 (BCE: 151.0250, KLD: 5.2301)\n",
      "Epoch 3/50\n"
     ]
    },
    {
     "name": "stderr",
     "output_type": "stream",
     "text": [
      " 17%|█▋        | 80/469 [00:01<00:04, 82.12it/s]"
     ]
    },
    {
     "name": "stdout",
     "output_type": "stream",
     "text": [
      "Step 1,000 (N samples: 128,000), Loss: 155.1180 (Recon: 149.9364, KL: 5.1815) Grad: 35.8153\n"
     ]
    },
    {
     "name": "stderr",
     "output_type": "stream",
     "text": [
      " 38%|███▊      | 179/469 [00:02<00:03, 82.77it/s]"
     ]
    },
    {
     "name": "stdout",
     "output_type": "stream",
     "text": [
      "Step 1,100 (N samples: 140,800), Loss: 157.9228 (Recon: 152.3461, KL: 5.5767) Grad: 73.6300\n"
     ]
    },
    {
     "name": "stderr",
     "output_type": "stream",
     "text": [
      " 59%|█████▉    | 279/469 [00:03<00:02, 82.61it/s]"
     ]
    },
    {
     "name": "stdout",
     "output_type": "stream",
     "text": [
      "Step 1,200 (N samples: 153,600), Loss: 147.1937 (Recon: 141.6124, KL: 5.5813) Grad: 41.0391\n"
     ]
    },
    {
     "name": "stderr",
     "output_type": "stream",
     "text": [
      " 81%|████████  | 378/469 [00:04<00:01, 82.94it/s]"
     ]
    },
    {
     "name": "stdout",
     "output_type": "stream",
     "text": [
      "Step 1,300 (N samples: 166,400), Loss: 158.8624 (Recon: 153.2203, KL: 5.6421) Grad: 63.4077\n"
     ]
    },
    {
     "name": "stderr",
     "output_type": "stream",
     "text": [
      "100%|██████████| 469/469 [00:05<00:00, 79.23it/s]\n"
     ]
    },
    {
     "name": "stdout",
     "output_type": "stream",
     "text": [
      "Step 1,400 (N samples: 179,200), Loss: 157.4349 (Recon: 151.7659, KL: 5.6690) Grad: 65.0126\n"
     ]
    },
    {
     "name": "stderr",
     "output_type": "stream",
     "text": [
      "Testing: 100%|██████████| 79/79 [00:00<00:00, 86.18it/s] \n"
     ]
    },
    {
     "name": "stdout",
     "output_type": "stream",
     "text": [
      "====> Test set loss: 153.0694 (BCE: 147.4224, KLD: 5.6470)\n",
      "Epoch 4/50\n"
     ]
    },
    {
     "name": "stderr",
     "output_type": "stream",
     "text": [
      " 23%|██▎       | 110/469 [00:01<00:04, 84.15it/s]"
     ]
    },
    {
     "name": "stdout",
     "output_type": "stream",
     "text": [
      "Step 1,500 (N samples: 192,000), Loss: 149.1451 (Recon: 143.1976, KL: 5.9475) Grad: 46.7504\n"
     ]
    },
    {
     "name": "stderr",
     "output_type": "stream",
     "text": [
      " 45%|████▍     | 210/469 [00:02<00:03, 84.62it/s]"
     ]
    },
    {
     "name": "stdout",
     "output_type": "stream",
     "text": [
      "Step 1,600 (N samples: 204,800), Loss: 154.2340 (Recon: 148.1493, KL: 6.0847) Grad: 98.3724\n"
     ]
    },
    {
     "name": "stderr",
     "output_type": "stream",
     "text": [
      " 66%|██████▌   | 309/469 [00:03<00:01, 82.93it/s]"
     ]
    },
    {
     "name": "stdout",
     "output_type": "stream",
     "text": [
      "Step 1,700 (N samples: 217,600), Loss: 158.8797 (Recon: 153.3383, KL: 5.5414) Grad: 141.2032\n"
     ]
    },
    {
     "name": "stderr",
     "output_type": "stream",
     "text": [
      " 87%|████████▋ | 408/469 [00:05<00:00, 81.45it/s]"
     ]
    },
    {
     "name": "stdout",
     "output_type": "stream",
     "text": [
      "Step 1,800 (N samples: 230,400), Loss: 147.5333 (Recon: 141.6530, KL: 5.8803) Grad: 136.0254\n"
     ]
    },
    {
     "name": "stderr",
     "output_type": "stream",
     "text": [
      "100%|██████████| 469/469 [00:05<00:00, 79.33it/s]\n",
      "Testing: 100%|██████████| 79/79 [00:00<00:00, 88.20it/s] \n"
     ]
    },
    {
     "name": "stdout",
     "output_type": "stream",
     "text": [
      "====> Test set loss: 149.5501 (BCE: 143.6666, KLD: 5.8835)\n",
      "Epoch 5/50\n"
     ]
    },
    {
     "name": "stderr",
     "output_type": "stream",
     "text": [
      "  8%|▊         | 37/469 [00:00<00:06, 68.38it/s]"
     ]
    },
    {
     "name": "stdout",
     "output_type": "stream",
     "text": [
      "Step 1,900 (N samples: 243,200), Loss: 143.5567 (Recon: 137.5051, KL: 6.0516) Grad: 80.5070\n"
     ]
    },
    {
     "name": "stderr",
     "output_type": "stream",
     "text": [
      " 29%|██▉       | 136/469 [00:01<00:04, 81.48it/s]"
     ]
    },
    {
     "name": "stdout",
     "output_type": "stream",
     "text": [
      "Step 2,000 (N samples: 256,000), Loss: 146.4012 (Recon: 140.4876, KL: 5.9135) Grad: 61.8046\n"
     ]
    },
    {
     "name": "stderr",
     "output_type": "stream",
     "text": [
      " 50%|█████     | 235/469 [00:03<00:02, 85.26it/s]"
     ]
    },
    {
     "name": "stdout",
     "output_type": "stream",
     "text": [
      "Step 2,100 (N samples: 268,800), Loss: 153.7611 (Recon: 147.6425, KL: 6.1187) Grad: 106.6330\n"
     ]
    },
    {
     "name": "stderr",
     "output_type": "stream",
     "text": [
      " 71%|███████   | 334/469 [00:04<00:01, 83.24it/s]"
     ]
    },
    {
     "name": "stdout",
     "output_type": "stream",
     "text": [
      "Step 2,200 (N samples: 281,600), Loss: 151.5617 (Recon: 145.6523, KL: 5.9094) Grad: 70.9798\n"
     ]
    },
    {
     "name": "stderr",
     "output_type": "stream",
     "text": [
      " 94%|█████████▍| 442/469 [00:05<00:00, 83.98it/s]"
     ]
    },
    {
     "name": "stdout",
     "output_type": "stream",
     "text": [
      "Step 2,300 (N samples: 294,400), Loss: 148.9093 (Recon: 142.9750, KL: 5.9343) Grad: 63.1320\n"
     ]
    },
    {
     "name": "stderr",
     "output_type": "stream",
     "text": [
      "100%|██████████| 469/469 [00:05<00:00, 79.07it/s]\n",
      "Testing: 100%|██████████| 79/79 [00:00<00:00, 87.21it/s] \n"
     ]
    },
    {
     "name": "stdout",
     "output_type": "stream",
     "text": [
      "====> Test set loss: 146.7018 (BCE: 140.5070, KLD: 6.1948)\n",
      "Epoch 6/50\n"
     ]
    },
    {
     "name": "stderr",
     "output_type": "stream",
     "text": [
      " 14%|█▎        | 64/469 [00:01<00:05, 78.28it/s]"
     ]
    },
    {
     "name": "stdout",
     "output_type": "stream",
     "text": [
      "Step 2,400 (N samples: 307,200), Loss: 140.3012 (Recon: 134.0778, KL: 6.2233) Grad: 120.1158\n"
     ]
    },
    {
     "name": "stderr",
     "output_type": "stream",
     "text": [
      " 37%|███▋      | 172/469 [00:02<00:03, 84.98it/s]"
     ]
    },
    {
     "name": "stdout",
     "output_type": "stream",
     "text": [
      "Step 2,500 (N samples: 320,000), Loss: 144.4487 (Recon: 138.3745, KL: 6.0741) Grad: 87.9034\n"
     ]
    },
    {
     "name": "stderr",
     "output_type": "stream",
     "text": [
      " 58%|█████▊    | 272/469 [00:03<00:02, 84.08it/s]"
     ]
    },
    {
     "name": "stdout",
     "output_type": "stream",
     "text": [
      "Step 2,600 (N samples: 332,800), Loss: 147.4062 (Recon: 141.4228, KL: 5.9835) Grad: 82.6368\n"
     ]
    },
    {
     "name": "stderr",
     "output_type": "stream",
     "text": [
      " 78%|███████▊  | 364/469 [00:04<00:01, 84.28it/s]"
     ]
    },
    {
     "name": "stdout",
     "output_type": "stream",
     "text": [
      "Step 2,700 (N samples: 345,600), Loss: 154.0478 (Recon: 147.8026, KL: 6.2452) Grad: 106.4584\n"
     ]
    },
    {
     "name": "stderr",
     "output_type": "stream",
     "text": [
      " 99%|█████████▉| 464/469 [00:05<00:00, 85.76it/s]"
     ]
    },
    {
     "name": "stdout",
     "output_type": "stream",
     "text": [
      "Step 2,800 (N samples: 358,400), Loss: 151.3350 (Recon: 145.1947, KL: 6.1403) Grad: 88.0487\n"
     ]
    },
    {
     "name": "stderr",
     "output_type": "stream",
     "text": [
      "100%|██████████| 469/469 [00:05<00:00, 79.46it/s]\n",
      "Testing: 100%|██████████| 79/79 [00:00<00:00, 87.33it/s] \n"
     ]
    },
    {
     "name": "stdout",
     "output_type": "stream",
     "text": [
      "====> Test set loss: 146.7871 (BCE: 140.6464, KLD: 6.1407)\n",
      "Epoch 7/50\n"
     ]
    },
    {
     "name": "stderr",
     "output_type": "stream",
     "text": [
      " 21%|██▏       | 100/469 [00:01<00:04, 83.89it/s]"
     ]
    },
    {
     "name": "stdout",
     "output_type": "stream",
     "text": [
      "Step 2,900 (N samples: 371,200), Loss: 149.5516 (Recon: 143.0596, KL: 6.4920) Grad: 122.5320\n"
     ]
    },
    {
     "name": "stderr",
     "output_type": "stream",
     "text": [
      " 43%|████▎     | 200/469 [00:02<00:03, 83.02it/s]"
     ]
    },
    {
     "name": "stdout",
     "output_type": "stream",
     "text": [
      "Step 3,000 (N samples: 384,000), Loss: 150.0950 (Recon: 143.7850, KL: 6.3101) Grad: 79.4561\n"
     ]
    },
    {
     "name": "stderr",
     "output_type": "stream",
     "text": [
      " 64%|██████▍   | 299/469 [00:03<00:02, 84.25it/s]"
     ]
    },
    {
     "name": "stdout",
     "output_type": "stream",
     "text": [
      "Step 3,100 (N samples: 396,800), Loss: 152.4213 (Recon: 146.2495, KL: 6.1719) Grad: 157.1232\n"
     ]
    },
    {
     "name": "stderr",
     "output_type": "stream",
     "text": [
      " 85%|████████▍ | 398/469 [00:05<00:00, 82.80it/s]"
     ]
    },
    {
     "name": "stdout",
     "output_type": "stream",
     "text": [
      "Step 3,200 (N samples: 409,600), Loss: 147.1416 (Recon: 140.7756, KL: 6.3660) Grad: 135.5168\n"
     ]
    },
    {
     "name": "stderr",
     "output_type": "stream",
     "text": [
      "100%|██████████| 469/469 [00:05<00:00, 80.04it/s]\n",
      "Testing: 100%|██████████| 79/79 [00:00<00:00, 88.53it/s] \n"
     ]
    },
    {
     "name": "stdout",
     "output_type": "stream",
     "text": [
      "====> Test set loss: 144.7662 (BCE: 138.3862, KLD: 6.3800)\n",
      "Epoch 8/50\n"
     ]
    },
    {
     "name": "stderr",
     "output_type": "stream",
     "text": [
      "  6%|▌         | 28/469 [00:00<00:07, 60.78it/s]"
     ]
    },
    {
     "name": "stdout",
     "output_type": "stream",
     "text": [
      "Step 3,300 (N samples: 422,400), Loss: 146.4927 (Recon: 140.3921, KL: 6.1006) Grad: 156.6233\n"
     ]
    },
    {
     "name": "stderr",
     "output_type": "stream",
     "text": [
      " 27%|██▋       | 127/469 [00:01<00:04, 84.43it/s]"
     ]
    },
    {
     "name": "stdout",
     "output_type": "stream",
     "text": [
      "Step 3,400 (N samples: 435,200), Loss: 144.9676 (Recon: 138.5408, KL: 6.4267) Grad: 96.3073\n"
     ]
    },
    {
     "name": "stderr",
     "output_type": "stream",
     "text": [
      " 48%|████▊     | 227/469 [00:02<00:02, 84.64it/s]"
     ]
    },
    {
     "name": "stdout",
     "output_type": "stream",
     "text": [
      "Step 3,500 (N samples: 448,000), Loss: 144.5239 (Recon: 138.1184, KL: 6.4055) Grad: 73.3984\n"
     ]
    },
    {
     "name": "stderr",
     "output_type": "stream",
     "text": [
      " 70%|██████▉   | 328/469 [00:04<00:01, 84.82it/s]"
     ]
    },
    {
     "name": "stdout",
     "output_type": "stream",
     "text": [
      "Step 3,600 (N samples: 460,800), Loss: 147.8870 (Recon: 141.4781, KL: 6.4089) Grad: 134.0780\n"
     ]
    },
    {
     "name": "stderr",
     "output_type": "stream",
     "text": [
      " 91%|█████████▏| 429/469 [00:05<00:00, 86.64it/s]"
     ]
    },
    {
     "name": "stdout",
     "output_type": "stream",
     "text": [
      "Step 3,700 (N samples: 473,600), Loss: 142.1823 (Recon: 135.8528, KL: 6.3295) Grad: 108.9374\n"
     ]
    },
    {
     "name": "stderr",
     "output_type": "stream",
     "text": [
      "100%|██████████| 469/469 [00:05<00:00, 80.11it/s]\n",
      "Testing: 100%|██████████| 79/79 [00:00<00:00, 88.10it/s] \n"
     ]
    },
    {
     "name": "stdout",
     "output_type": "stream",
     "text": [
      "====> Test set loss: 143.3485 (BCE: 136.9095, KLD: 6.4390)\n",
      "Epoch 9/50\n"
     ]
    },
    {
     "name": "stderr",
     "output_type": "stream",
     "text": [
      " 13%|█▎        | 60/469 [00:00<00:05, 75.98it/s]"
     ]
    },
    {
     "name": "stdout",
     "output_type": "stream",
     "text": [
      "Step 3,800 (N samples: 486,400), Loss: 149.6623 (Recon: 143.3407, KL: 6.3216) Grad: 127.5034\n"
     ]
    },
    {
     "name": "stderr",
     "output_type": "stream",
     "text": [
      " 34%|███▍      | 159/469 [00:02<00:03, 82.78it/s]"
     ]
    },
    {
     "name": "stdout",
     "output_type": "stream",
     "text": [
      "Step 3,900 (N samples: 499,200), Loss: 149.3812 (Recon: 143.0785, KL: 6.3027) Grad: 150.9309\n"
     ]
    },
    {
     "name": "stderr",
     "output_type": "stream",
     "text": [
      " 55%|█████▌    | 260/469 [00:03<00:02, 84.84it/s]"
     ]
    },
    {
     "name": "stdout",
     "output_type": "stream",
     "text": [
      "Step 4,000 (N samples: 512,000), Loss: 145.5063 (Recon: 139.1225, KL: 6.3838) Grad: 101.2286\n"
     ]
    },
    {
     "name": "stderr",
     "output_type": "stream",
     "text": [
      " 77%|███████▋  | 359/469 [00:04<00:01, 83.93it/s]"
     ]
    },
    {
     "name": "stdout",
     "output_type": "stream",
     "text": [
      "Step 4,100 (N samples: 524,800), Loss: 140.2528 (Recon: 133.9306, KL: 6.3222) Grad: 86.0445\n"
     ]
    },
    {
     "name": "stderr",
     "output_type": "stream",
     "text": [
      " 98%|█████████▊| 459/469 [00:05<00:00, 87.06it/s]"
     ]
    },
    {
     "name": "stdout",
     "output_type": "stream",
     "text": [
      "Step 4,200 (N samples: 537,600), Loss: 137.9826 (Recon: 131.3868, KL: 6.5958) Grad: 72.4698\n"
     ]
    },
    {
     "name": "stderr",
     "output_type": "stream",
     "text": [
      "100%|██████████| 469/469 [00:05<00:00, 79.69it/s]\n",
      "Testing: 100%|██████████| 79/79 [00:00<00:00, 88.38it/s] \n"
     ]
    },
    {
     "name": "stdout",
     "output_type": "stream",
     "text": [
      "====> Test set loss: 147.8345 (BCE: 141.6503, KLD: 6.1842)\n",
      "Epoch 10/50\n"
     ]
    },
    {
     "name": "stderr",
     "output_type": "stream",
     "text": [
      " 19%|█▉        | 90/469 [00:01<00:04, 80.05it/s]"
     ]
    },
    {
     "name": "stdout",
     "output_type": "stream",
     "text": [
      "Step 4,300 (N samples: 550,400), Loss: 151.1061 (Recon: 144.7901, KL: 6.3160) Grad: 213.6649\n"
     ]
    },
    {
     "name": "stderr",
     "output_type": "stream",
     "text": [
      " 40%|████      | 189/469 [00:02<00:03, 81.77it/s]"
     ]
    },
    {
     "name": "stdout",
     "output_type": "stream",
     "text": [
      "Step 4,400 (N samples: 563,200), Loss: 143.0909 (Recon: 136.4432, KL: 6.6477) Grad: 123.3828\n"
     ]
    },
    {
     "name": "stderr",
     "output_type": "stream",
     "text": [
      " 62%|██████▏   | 289/469 [00:03<00:02, 84.51it/s]"
     ]
    },
    {
     "name": "stdout",
     "output_type": "stream",
     "text": [
      "Step 4,500 (N samples: 576,000), Loss: 140.0806 (Recon: 133.4855, KL: 6.5951) Grad: 108.3484\n"
     ]
    },
    {
     "name": "stderr",
     "output_type": "stream",
     "text": [
      " 83%|████████▎ | 388/469 [00:04<00:00, 83.20it/s]"
     ]
    },
    {
     "name": "stdout",
     "output_type": "stream",
     "text": [
      "Step 4,600 (N samples: 588,800), Loss: 139.0300 (Recon: 132.5026, KL: 6.5274) Grad: 108.7981\n"
     ]
    },
    {
     "name": "stderr",
     "output_type": "stream",
     "text": [
      "100%|██████████| 469/469 [00:05<00:00, 79.28it/s]\n",
      "Testing: 100%|██████████| 79/79 [00:00<00:00, 88.81it/s] \n"
     ]
    },
    {
     "name": "stdout",
     "output_type": "stream",
     "text": [
      "====> Test set loss: 143.6385 (BCE: 137.4102, KLD: 6.2283)\n",
      "Epoch 11/50\n"
     ]
    },
    {
     "name": "stderr",
     "output_type": "stream",
     "text": [
      "  6%|▌         | 26/469 [00:00<00:07, 58.78it/s]"
     ]
    },
    {
     "name": "stdout",
     "output_type": "stream",
     "text": [
      "Step 4,700 (N samples: 601,600), Loss: 141.1157 (Recon: 134.9438, KL: 6.1719) Grad: 169.2237\n"
     ]
    },
    {
     "name": "stderr",
     "output_type": "stream",
     "text": [
      " 27%|██▋       | 127/469 [00:01<00:04, 82.32it/s]"
     ]
    },
    {
     "name": "stdout",
     "output_type": "stream",
     "text": [
      "Step 4,800 (N samples: 614,400), Loss: 145.3117 (Recon: 138.9830, KL: 6.3286) Grad: 82.7374\n"
     ]
    },
    {
     "name": "stderr",
     "output_type": "stream",
     "text": [
      " 48%|████▊     | 226/469 [00:02<00:02, 83.77it/s]"
     ]
    },
    {
     "name": "stdout",
     "output_type": "stream",
     "text": [
      "Step 4,900 (N samples: 627,200), Loss: 141.6945 (Recon: 135.0086, KL: 6.6859) Grad: 104.5863\n"
     ]
    },
    {
     "name": "stderr",
     "output_type": "stream",
     "text": [
      " 70%|██████▉   | 326/469 [00:04<00:01, 84.68it/s]"
     ]
    },
    {
     "name": "stdout",
     "output_type": "stream",
     "text": [
      "Step 5,000 (N samples: 640,000), Loss: 152.6497 (Recon: 146.0999, KL: 6.5498) Grad: 112.5636\n"
     ]
    },
    {
     "name": "stderr",
     "output_type": "stream",
     "text": [
      " 91%|█████████ | 427/469 [00:05<00:00, 83.36it/s]"
     ]
    },
    {
     "name": "stdout",
     "output_type": "stream",
     "text": [
      "Step 5,100 (N samples: 652,800), Loss: 150.4181 (Recon: 144.0349, KL: 6.3833) Grad: 125.6869\n"
     ]
    },
    {
     "name": "stderr",
     "output_type": "stream",
     "text": [
      "100%|██████████| 469/469 [00:05<00:00, 79.96it/s]\n",
      "Testing: 100%|██████████| 79/79 [00:00<00:00, 86.57it/s] \n"
     ]
    },
    {
     "name": "stdout",
     "output_type": "stream",
     "text": [
      "====> Test set loss: 142.6042 (BCE: 136.1096, KLD: 6.4946)\n",
      "Epoch 12/50\n"
     ]
    },
    {
     "name": "stderr",
     "output_type": "stream",
     "text": [
      " 11%|█▏        | 53/469 [00:00<00:05, 75.80it/s]"
     ]
    },
    {
     "name": "stdout",
     "output_type": "stream",
     "text": [
      "Step 5,200 (N samples: 665,600), Loss: 143.4317 (Recon: 137.0594, KL: 6.3723) Grad: 125.4975\n"
     ]
    },
    {
     "name": "stderr",
     "output_type": "stream",
     "text": [
      " 32%|███▏      | 152/469 [00:02<00:03, 83.03it/s]"
     ]
    },
    {
     "name": "stdout",
     "output_type": "stream",
     "text": [
      "Step 5,300 (N samples: 678,400), Loss: 143.2063 (Recon: 136.7729, KL: 6.4334) Grad: 110.6033\n"
     ]
    },
    {
     "name": "stderr",
     "output_type": "stream",
     "text": [
      " 54%|█████▎    | 251/469 [00:03<00:02, 83.07it/s]"
     ]
    },
    {
     "name": "stdout",
     "output_type": "stream",
     "text": [
      "Step 5,400 (N samples: 691,200), Loss: 135.4088 (Recon: 128.8870, KL: 6.5218) Grad: 87.0959\n"
     ]
    },
    {
     "name": "stderr",
     "output_type": "stream",
     "text": [
      " 75%|███████▍  | 350/469 [00:04<00:01, 81.98it/s]"
     ]
    },
    {
     "name": "stdout",
     "output_type": "stream",
     "text": [
      "Step 5,500 (N samples: 704,000), Loss: 145.1239 (Recon: 138.5825, KL: 6.5414) Grad: 143.6173\n"
     ]
    },
    {
     "name": "stderr",
     "output_type": "stream",
     "text": [
      " 96%|█████████▋| 452/469 [00:05<00:00, 85.78it/s]"
     ]
    },
    {
     "name": "stdout",
     "output_type": "stream",
     "text": [
      "Step 5,600 (N samples: 716,800), Loss: 143.7596 (Recon: 137.2122, KL: 6.5474) Grad: 93.9337\n"
     ]
    },
    {
     "name": "stderr",
     "output_type": "stream",
     "text": [
      "100%|██████████| 469/469 [00:05<00:00, 79.25it/s]\n",
      "Testing: 100%|██████████| 79/79 [00:00<00:00, 87.30it/s] \n"
     ]
    },
    {
     "name": "stdout",
     "output_type": "stream",
     "text": [
      "====> Test set loss: 141.1224 (BCE: 134.5440, KLD: 6.5785)\n",
      "Epoch 13/50\n"
     ]
    },
    {
     "name": "stderr",
     "output_type": "stream",
     "text": [
      " 19%|█▉        | 89/469 [00:01<00:04, 81.83it/s]"
     ]
    },
    {
     "name": "stdout",
     "output_type": "stream",
     "text": [
      "Step 5,700 (N samples: 729,600), Loss: 134.7781 (Recon: 128.0034, KL: 6.7747) Grad: 154.7853\n"
     ]
    },
    {
     "name": "stderr",
     "output_type": "stream",
     "text": [
      " 40%|████      | 189/469 [00:02<00:03, 84.11it/s]"
     ]
    },
    {
     "name": "stdout",
     "output_type": "stream",
     "text": [
      "Step 5,800 (N samples: 742,400), Loss: 144.5723 (Recon: 138.0868, KL: 6.4854) Grad: 115.6377\n"
     ]
    },
    {
     "name": "stderr",
     "output_type": "stream",
     "text": [
      " 62%|██████▏   | 289/469 [00:03<00:02, 83.02it/s]"
     ]
    },
    {
     "name": "stdout",
     "output_type": "stream",
     "text": [
      "Step 5,900 (N samples: 755,200), Loss: 135.5911 (Recon: 129.0582, KL: 6.5329) Grad: 100.6922\n"
     ]
    },
    {
     "name": "stderr",
     "output_type": "stream",
     "text": [
      " 83%|████████▎ | 388/469 [00:04<00:00, 85.07it/s]"
     ]
    },
    {
     "name": "stdout",
     "output_type": "stream",
     "text": [
      "Step 6,000 (N samples: 768,000), Loss: 141.0708 (Recon: 134.5077, KL: 6.5631) Grad: 130.1537\n"
     ]
    },
    {
     "name": "stderr",
     "output_type": "stream",
     "text": [
      "100%|██████████| 469/469 [00:05<00:00, 79.00it/s]\n",
      "Testing: 100%|██████████| 79/79 [00:00<00:00, 87.14it/s] \n"
     ]
    },
    {
     "name": "stdout",
     "output_type": "stream",
     "text": [
      "====> Test set loss: 141.7909 (BCE: 135.1234, KLD: 6.6676)\n",
      "Epoch 14/50\n"
     ]
    },
    {
     "name": "stderr",
     "output_type": "stream",
     "text": [
      "  4%|▍         | 18/469 [00:00<00:09, 47.74it/s]"
     ]
    },
    {
     "name": "stdout",
     "output_type": "stream",
     "text": [
      "Step 6,100 (N samples: 780,800), Loss: 146.1747 (Recon: 139.5089, KL: 6.6659) Grad: 113.3772\n"
     ]
    },
    {
     "name": "stderr",
     "output_type": "stream",
     "text": [
      " 25%|██▌       | 118/469 [00:01<00:04, 85.63it/s]"
     ]
    },
    {
     "name": "stdout",
     "output_type": "stream",
     "text": [
      "Step 6,200 (N samples: 793,600), Loss: 137.8167 (Recon: 131.0227, KL: 6.7941) Grad: 104.6300\n"
     ]
    },
    {
     "name": "stderr",
     "output_type": "stream",
     "text": [
      " 46%|████▋     | 218/469 [00:02<00:02, 84.52it/s]"
     ]
    },
    {
     "name": "stdout",
     "output_type": "stream",
     "text": [
      "Step 6,300 (N samples: 806,400), Loss: 143.1730 (Recon: 136.6045, KL: 6.5685) Grad: 118.9225\n"
     ]
    },
    {
     "name": "stderr",
     "output_type": "stream",
     "text": [
      " 68%|██████▊   | 318/469 [00:04<00:01, 85.02it/s]"
     ]
    },
    {
     "name": "stdout",
     "output_type": "stream",
     "text": [
      "Step 6,400 (N samples: 819,200), Loss: 145.0666 (Recon: 138.7274, KL: 6.3392) Grad: 177.2799\n"
     ]
    },
    {
     "name": "stderr",
     "output_type": "stream",
     "text": [
      " 89%|████████▉ | 417/469 [00:05<00:00, 83.27it/s]"
     ]
    },
    {
     "name": "stdout",
     "output_type": "stream",
     "text": [
      "Step 6,500 (N samples: 832,000), Loss: 137.8315 (Recon: 131.4464, KL: 6.3851) Grad: 61.4457\n"
     ]
    },
    {
     "name": "stderr",
     "output_type": "stream",
     "text": [
      "100%|██████████| 469/469 [00:05<00:00, 79.79it/s]\n",
      "Testing: 100%|██████████| 79/79 [00:00<00:00, 86.96it/s]\n"
     ]
    },
    {
     "name": "stdout",
     "output_type": "stream",
     "text": [
      "====> Test set loss: 144.9239 (BCE: 138.3861, KLD: 6.5377)\n",
      "Epoch 15/50\n"
     ]
    },
    {
     "name": "stderr",
     "output_type": "stream",
     "text": [
      " 10%|▉         | 46/469 [00:00<00:05, 72.17it/s]"
     ]
    },
    {
     "name": "stdout",
     "output_type": "stream",
     "text": [
      "Step 6,600 (N samples: 844,800), Loss: 145.2583 (Recon: 138.5788, KL: 6.6794) Grad: 138.1847\n"
     ]
    },
    {
     "name": "stderr",
     "output_type": "stream",
     "text": [
      " 31%|███       | 146/469 [00:02<00:03, 81.69it/s]"
     ]
    },
    {
     "name": "stdout",
     "output_type": "stream",
     "text": [
      "Step 6,700 (N samples: 857,600), Loss: 152.6723 (Recon: 146.0655, KL: 6.6068) Grad: 139.5654\n"
     ]
    },
    {
     "name": "stderr",
     "output_type": "stream",
     "text": [
      " 52%|█████▏    | 246/469 [00:03<00:02, 83.71it/s]"
     ]
    },
    {
     "name": "stdout",
     "output_type": "stream",
     "text": [
      "Step 6,800 (N samples: 870,400), Loss: 133.6553 (Recon: 127.0655, KL: 6.5898) Grad: 105.6291\n"
     ]
    },
    {
     "name": "stderr",
     "output_type": "stream",
     "text": [
      " 74%|███████▍  | 346/469 [00:04<00:01, 84.54it/s]"
     ]
    },
    {
     "name": "stdout",
     "output_type": "stream",
     "text": [
      "Step 6,900 (N samples: 883,200), Loss: 144.3659 (Recon: 137.9012, KL: 6.4647) Grad: 87.4374\n"
     ]
    },
    {
     "name": "stderr",
     "output_type": "stream",
     "text": [
      " 95%|█████████▌| 447/469 [00:05<00:00, 84.34it/s]"
     ]
    },
    {
     "name": "stdout",
     "output_type": "stream",
     "text": [
      "Step 7,000 (N samples: 896,000), Loss: 141.0738 (Recon: 134.5631, KL: 6.5107) Grad: 96.7907\n"
     ]
    },
    {
     "name": "stderr",
     "output_type": "stream",
     "text": [
      "100%|██████████| 469/469 [00:05<00:00, 79.62it/s]\n",
      "Testing: 100%|██████████| 79/79 [00:00<00:00, 87.01it/s] \n"
     ]
    },
    {
     "name": "stdout",
     "output_type": "stream",
     "text": [
      "====> Test set loss: 140.6102 (BCE: 134.0099, KLD: 6.6003)\n",
      "Epoch 16/50\n"
     ]
    },
    {
     "name": "stderr",
     "output_type": "stream",
     "text": [
      " 17%|█▋        | 81/469 [00:01<00:04, 81.06it/s]"
     ]
    },
    {
     "name": "stdout",
     "output_type": "stream",
     "text": [
      "Step 7,100 (N samples: 908,800), Loss: 141.1794 (Recon: 134.6112, KL: 6.5682) Grad: 165.8632\n"
     ]
    },
    {
     "name": "stderr",
     "output_type": "stream",
     "text": [
      " 39%|███▉      | 182/469 [00:02<00:03, 83.54it/s]"
     ]
    },
    {
     "name": "stdout",
     "output_type": "stream",
     "text": [
      "Step 7,200 (N samples: 921,600), Loss: 145.1523 (Recon: 138.6585, KL: 6.4938) Grad: 128.7607\n"
     ]
    },
    {
     "name": "stderr",
     "output_type": "stream",
     "text": [
      " 58%|█████▊    | 274/469 [00:03<00:02, 83.89it/s]"
     ]
    },
    {
     "name": "stdout",
     "output_type": "stream",
     "text": [
      "Step 7,300 (N samples: 934,400), Loss: 146.0763 (Recon: 139.4165, KL: 6.6598) Grad: 122.7807\n"
     ]
    },
    {
     "name": "stderr",
     "output_type": "stream",
     "text": [
      " 80%|███████▉  | 373/469 [00:04<00:01, 78.95it/s]"
     ]
    },
    {
     "name": "stdout",
     "output_type": "stream",
     "text": [
      "Step 7,400 (N samples: 947,200), Loss: 131.2472 (Recon: 124.5281, KL: 6.7191) Grad: 121.0011\n"
     ]
    },
    {
     "name": "stderr",
     "output_type": "stream",
     "text": [
      "100%|██████████| 469/469 [00:05<00:00, 79.32it/s]\n"
     ]
    },
    {
     "name": "stdout",
     "output_type": "stream",
     "text": [
      "Step 7,500 (N samples: 960,000), Loss: 142.9752 (Recon: 136.5209, KL: 6.4544) Grad: 128.8344\n"
     ]
    },
    {
     "name": "stderr",
     "output_type": "stream",
     "text": [
      "Testing: 100%|██████████| 79/79 [00:00<00:00, 87.81it/s] \n"
     ]
    },
    {
     "name": "stdout",
     "output_type": "stream",
     "text": [
      "====> Test set loss: 141.5160 (BCE: 135.0087, KLD: 6.5073)\n",
      "Epoch 17/50\n"
     ]
    },
    {
     "name": "stderr",
     "output_type": "stream",
     "text": [
      " 23%|██▎       | 109/469 [00:01<00:04, 85.00it/s]"
     ]
    },
    {
     "name": "stdout",
     "output_type": "stream",
     "text": [
      "Step 7,600 (N samples: 972,800), Loss: 140.6741 (Recon: 134.0268, KL: 6.6473) Grad: 148.6300\n"
     ]
    },
    {
     "name": "stderr",
     "output_type": "stream",
     "text": [
      " 44%|████▍     | 208/469 [00:02<00:03, 82.31it/s]"
     ]
    },
    {
     "name": "stdout",
     "output_type": "stream",
     "text": [
      "Step 7,700 (N samples: 985,600), Loss: 132.7065 (Recon: 125.9825, KL: 6.7240) Grad: 97.3035\n"
     ]
    },
    {
     "name": "stderr",
     "output_type": "stream",
     "text": [
      " 65%|██████▌   | 307/469 [00:03<00:02, 79.65it/s]"
     ]
    },
    {
     "name": "stdout",
     "output_type": "stream",
     "text": [
      "Step 7,800 (N samples: 998,400), Loss: 144.3309 (Recon: 137.6584, KL: 6.6725) Grad: 181.9309\n"
     ]
    },
    {
     "name": "stderr",
     "output_type": "stream",
     "text": [
      " 87%|████████▋ | 406/469 [00:05<00:00, 82.95it/s]"
     ]
    },
    {
     "name": "stdout",
     "output_type": "stream",
     "text": [
      "Step 7,900 (N samples: 1,011,200), Loss: 136.7975 (Recon: 130.0718, KL: 6.7256) Grad: 127.3942\n"
     ]
    },
    {
     "name": "stderr",
     "output_type": "stream",
     "text": [
      "100%|██████████| 469/469 [00:05<00:00, 79.50it/s]\n",
      "Testing: 100%|██████████| 79/79 [00:00<00:00, 88.11it/s] \n"
     ]
    },
    {
     "name": "stdout",
     "output_type": "stream",
     "text": [
      "====> Test set loss: 140.1017 (BCE: 133.4487, KLD: 6.6530)\n",
      "Epoch 18/50\n"
     ]
    },
    {
     "name": "stderr",
     "output_type": "stream",
     "text": [
      "  9%|▉         | 43/469 [00:00<00:06, 69.65it/s]"
     ]
    },
    {
     "name": "stdout",
     "output_type": "stream",
     "text": [
      "Step 8,000 (N samples: 1,024,000), Loss: 138.9669 (Recon: 132.1873, KL: 6.7796) Grad: 114.7496\n"
     ]
    },
    {
     "name": "stderr",
     "output_type": "stream",
     "text": [
      " 30%|███       | 143/469 [00:02<00:04, 81.11it/s]"
     ]
    },
    {
     "name": "stdout",
     "output_type": "stream",
     "text": [
      "Step 8,100 (N samples: 1,036,800), Loss: 138.2190 (Recon: 131.3691, KL: 6.8499) Grad: 129.0804\n"
     ]
    },
    {
     "name": "stderr",
     "output_type": "stream",
     "text": [
      " 52%|█████▏    | 244/469 [00:03<00:02, 84.90it/s]"
     ]
    },
    {
     "name": "stdout",
     "output_type": "stream",
     "text": [
      "Step 8,200 (N samples: 1,049,600), Loss: 145.3165 (Recon: 138.6243, KL: 6.6922) Grad: 80.1304\n"
     ]
    },
    {
     "name": "stderr",
     "output_type": "stream",
     "text": [
      " 73%|███████▎  | 343/469 [00:04<00:01, 83.72it/s]"
     ]
    },
    {
     "name": "stdout",
     "output_type": "stream",
     "text": [
      "Step 8,300 (N samples: 1,062,400), Loss: 136.9506 (Recon: 130.3434, KL: 6.6073) Grad: 85.3701\n"
     ]
    },
    {
     "name": "stderr",
     "output_type": "stream",
     "text": [
      " 94%|█████████▍| 442/469 [00:05<00:00, 82.19it/s]"
     ]
    },
    {
     "name": "stdout",
     "output_type": "stream",
     "text": [
      "Step 8,400 (N samples: 1,075,200), Loss: 136.7472 (Recon: 129.9667, KL: 6.7805) Grad: 115.9406\n"
     ]
    },
    {
     "name": "stderr",
     "output_type": "stream",
     "text": [
      "100%|██████████| 469/469 [00:05<00:00, 78.91it/s]\n",
      "Testing: 100%|██████████| 79/79 [00:00<00:00, 86.89it/s] \n"
     ]
    },
    {
     "name": "stdout",
     "output_type": "stream",
     "text": [
      "====> Test set loss: 139.2830 (BCE: 132.6825, KLD: 6.6005)\n",
      "Epoch 19/50\n"
     ]
    },
    {
     "name": "stderr",
     "output_type": "stream",
     "text": [
      " 15%|█▌        | 72/469 [00:01<00:04, 81.79it/s]"
     ]
    },
    {
     "name": "stdout",
     "output_type": "stream",
     "text": [
      "Step 8,500 (N samples: 1,088,000), Loss: 141.2941 (Recon: 134.3837, KL: 6.9103) Grad: 153.3500\n"
     ]
    },
    {
     "name": "stderr",
     "output_type": "stream",
     "text": [
      " 36%|███▋      | 171/469 [00:02<00:03, 83.78it/s]"
     ]
    },
    {
     "name": "stdout",
     "output_type": "stream",
     "text": [
      "Step 8,600 (N samples: 1,100,800), Loss: 135.3766 (Recon: 128.6686, KL: 6.7080) Grad: 113.5749\n"
     ]
    },
    {
     "name": "stderr",
     "output_type": "stream",
     "text": [
      " 58%|█████▊    | 271/469 [00:03<00:02, 84.69it/s]"
     ]
    },
    {
     "name": "stdout",
     "output_type": "stream",
     "text": [
      "Step 8,700 (N samples: 1,113,600), Loss: 139.1717 (Recon: 132.4276, KL: 6.7441) Grad: 137.0431\n"
     ]
    },
    {
     "name": "stderr",
     "output_type": "stream",
     "text": [
      " 79%|███████▉  | 370/469 [00:04<00:01, 82.23it/s]"
     ]
    },
    {
     "name": "stdout",
     "output_type": "stream",
     "text": [
      "Step 8,800 (N samples: 1,126,400), Loss: 141.4918 (Recon: 134.6757, KL: 6.8161) Grad: 123.6657\n"
     ]
    },
    {
     "name": "stderr",
     "output_type": "stream",
     "text": [
      "100%|██████████| 469/469 [00:05<00:00, 79.87it/s]\n"
     ]
    },
    {
     "name": "stdout",
     "output_type": "stream",
     "text": [
      "Step 8,900 (N samples: 1,139,200), Loss: 137.1869 (Recon: 130.3418, KL: 6.8451) Grad: 68.6180\n"
     ]
    },
    {
     "name": "stderr",
     "output_type": "stream",
     "text": [
      "Testing: 100%|██████████| 79/79 [00:00<00:00, 87.85it/s] \n"
     ]
    },
    {
     "name": "stdout",
     "output_type": "stream",
     "text": [
      "====> Test set loss: 139.8027 (BCE: 133.1168, KLD: 6.6859)\n",
      "Epoch 20/50\n"
     ]
    },
    {
     "name": "stderr",
     "output_type": "stream",
     "text": [
      " 21%|██▏       | 100/469 [00:01<00:04, 83.71it/s]"
     ]
    },
    {
     "name": "stdout",
     "output_type": "stream",
     "text": [
      "Step 9,000 (N samples: 1,152,000), Loss: 141.1876 (Recon: 134.4034, KL: 6.7843) Grad: 154.8895\n"
     ]
    },
    {
     "name": "stderr",
     "output_type": "stream",
     "text": [
      " 43%|████▎     | 200/469 [00:02<00:03, 82.96it/s]"
     ]
    },
    {
     "name": "stdout",
     "output_type": "stream",
     "text": [
      "Step 9,100 (N samples: 1,164,800), Loss: 144.8931 (Recon: 137.8918, KL: 7.0012) Grad: 148.3992\n"
     ]
    },
    {
     "name": "stderr",
     "output_type": "stream",
     "text": [
      " 64%|██████▍   | 299/469 [00:03<00:02, 82.32it/s]"
     ]
    },
    {
     "name": "stdout",
     "output_type": "stream",
     "text": [
      "Step 9,200 (N samples: 1,177,600), Loss: 138.4992 (Recon: 131.5928, KL: 6.9065) Grad: 88.3792\n"
     ]
    },
    {
     "name": "stderr",
     "output_type": "stream",
     "text": [
      " 85%|████████▍ | 398/469 [00:05<00:00, 83.73it/s]"
     ]
    },
    {
     "name": "stdout",
     "output_type": "stream",
     "text": [
      "Step 9,300 (N samples: 1,190,400), Loss: 138.4227 (Recon: 131.6696, KL: 6.7531) Grad: 168.6366\n"
     ]
    },
    {
     "name": "stderr",
     "output_type": "stream",
     "text": [
      "100%|██████████| 469/469 [00:05<00:00, 79.98it/s]\n",
      "Testing: 100%|██████████| 79/79 [00:00<00:00, 87.59it/s] \n"
     ]
    },
    {
     "name": "stdout",
     "output_type": "stream",
     "text": [
      "====> Test set loss: 139.6560 (BCE: 132.9520, KLD: 6.7040)\n",
      "Epoch 21/50\n"
     ]
    },
    {
     "name": "stderr",
     "output_type": "stream",
     "text": [
      "  8%|▊         | 36/469 [00:00<00:06, 67.60it/s]"
     ]
    },
    {
     "name": "stdout",
     "output_type": "stream",
     "text": [
      "Step 9,400 (N samples: 1,203,200), Loss: 141.4583 (Recon: 134.6292, KL: 6.8291) Grad: 94.6531\n"
     ]
    },
    {
     "name": "stderr",
     "output_type": "stream",
     "text": [
      " 28%|██▊       | 133/469 [00:01<00:04, 82.67it/s]"
     ]
    },
    {
     "name": "stdout",
     "output_type": "stream",
     "text": [
      "Step 9,500 (N samples: 1,216,000), Loss: 141.6961 (Recon: 134.9603, KL: 6.7358) Grad: 115.9439\n"
     ]
    },
    {
     "name": "stderr",
     "output_type": "stream",
     "text": [
      " 50%|████▉     | 233/469 [00:03<00:02, 83.84it/s]"
     ]
    },
    {
     "name": "stdout",
     "output_type": "stream",
     "text": [
      "Step 9,600 (N samples: 1,228,800), Loss: 137.8092 (Recon: 131.0170, KL: 6.7922) Grad: 91.1950\n"
     ]
    },
    {
     "name": "stderr",
     "output_type": "stream",
     "text": [
      " 71%|███████   | 334/469 [00:04<00:01, 85.27it/s]"
     ]
    },
    {
     "name": "stdout",
     "output_type": "stream",
     "text": [
      "Step 9,700 (N samples: 1,241,600), Loss: 143.5220 (Recon: 136.7833, KL: 6.7387) Grad: 117.3087\n"
     ]
    },
    {
     "name": "stderr",
     "output_type": "stream",
     "text": [
      " 93%|█████████▎| 434/469 [00:05<00:00, 81.84it/s]"
     ]
    },
    {
     "name": "stdout",
     "output_type": "stream",
     "text": [
      "Step 9,800 (N samples: 1,254,400), Loss: 133.7131 (Recon: 126.9188, KL: 6.7943) Grad: 98.5674\n"
     ]
    },
    {
     "name": "stderr",
     "output_type": "stream",
     "text": [
      "100%|██████████| 469/469 [00:05<00:00, 79.72it/s]\n",
      "Testing: 100%|██████████| 79/79 [00:00<00:00, 84.26it/s] \n"
     ]
    },
    {
     "name": "stdout",
     "output_type": "stream",
     "text": [
      "====> Test set loss: 139.5530 (BCE: 132.6754, KLD: 6.8775)\n",
      "Epoch 22/50\n"
     ]
    },
    {
     "name": "stderr",
     "output_type": "stream",
     "text": [
      " 13%|█▎        | 62/469 [00:01<00:05, 76.83it/s]"
     ]
    },
    {
     "name": "stdout",
     "output_type": "stream",
     "text": [
      "Step 9,900 (N samples: 1,267,200), Loss: 139.8250 (Recon: 133.2312, KL: 6.5938) Grad: 120.6144\n"
     ]
    },
    {
     "name": "stderr",
     "output_type": "stream",
     "text": [
      " 34%|███▍      | 161/469 [00:02<00:03, 81.86it/s]"
     ]
    },
    {
     "name": "stdout",
     "output_type": "stream",
     "text": [
      "Step 10,000 (N samples: 1,280,000), Loss: 141.5084 (Recon: 134.7716, KL: 6.7368) Grad: 115.3425\n"
     ]
    },
    {
     "name": "stderr",
     "output_type": "stream",
     "text": [
      " 56%|█████▌    | 262/469 [00:03<00:02, 82.99it/s]"
     ]
    },
    {
     "name": "stdout",
     "output_type": "stream",
     "text": [
      "Step 10,100 (N samples: 1,292,800), Loss: 138.3439 (Recon: 131.4513, KL: 6.8927) Grad: 129.5288\n"
     ]
    },
    {
     "name": "stderr",
     "output_type": "stream",
     "text": [
      " 77%|███████▋  | 361/469 [00:04<00:01, 82.10it/s]"
     ]
    },
    {
     "name": "stdout",
     "output_type": "stream",
     "text": [
      "Step 10,200 (N samples: 1,305,600), Loss: 146.6216 (Recon: 139.8929, KL: 6.7287) Grad: 133.9134\n"
     ]
    },
    {
     "name": "stderr",
     "output_type": "stream",
     "text": [
      " 99%|█████████▉| 466/469 [00:06<00:00, 67.57it/s]"
     ]
    },
    {
     "name": "stdout",
     "output_type": "stream",
     "text": [
      "Step 10,300 (N samples: 1,318,400), Loss: 139.4920 (Recon: 132.7872, KL: 6.7048) Grad: 202.1461\n"
     ]
    },
    {
     "name": "stderr",
     "output_type": "stream",
     "text": [
      "100%|██████████| 469/469 [00:06<00:00, 75.38it/s]\n",
      "Testing: 100%|██████████| 79/79 [00:00<00:00, 85.79it/s] \n"
     ]
    },
    {
     "name": "stdout",
     "output_type": "stream",
     "text": [
      "====> Test set loss: 140.2963 (BCE: 133.5743, KLD: 6.7220)\n",
      "Epoch 23/50\n"
     ]
    },
    {
     "name": "stderr",
     "output_type": "stream",
     "text": [
      " 20%|█▉        | 92/469 [00:01<00:05, 64.82it/s]"
     ]
    },
    {
     "name": "stdout",
     "output_type": "stream",
     "text": [
      "Step 10,400 (N samples: 1,331,200), Loss: 143.6772 (Recon: 136.8575, KL: 6.8198) Grad: 103.2508\n"
     ]
    },
    {
     "name": "stderr",
     "output_type": "stream",
     "text": [
      " 41%|████▏     | 194/469 [00:02<00:03, 82.06it/s]"
     ]
    },
    {
     "name": "stdout",
     "output_type": "stream",
     "text": [
      "Step 10,500 (N samples: 1,344,000), Loss: 147.7154 (Recon: 140.7861, KL: 6.9293) Grad: 249.8100\n"
     ]
    },
    {
     "name": "stderr",
     "output_type": "stream",
     "text": [
      " 63%|██████▎   | 294/469 [00:03<00:02, 85.29it/s]"
     ]
    },
    {
     "name": "stdout",
     "output_type": "stream",
     "text": [
      "Step 10,600 (N samples: 1,356,800), Loss: 136.9764 (Recon: 130.2009, KL: 6.7755) Grad: 161.1492\n"
     ]
    },
    {
     "name": "stderr",
     "output_type": "stream",
     "text": [
      " 84%|████████▍ | 393/469 [00:05<00:00, 82.13it/s]"
     ]
    },
    {
     "name": "stdout",
     "output_type": "stream",
     "text": [
      "Step 10,700 (N samples: 1,369,600), Loss: 138.9262 (Recon: 131.9299, KL: 6.9963) Grad: 92.7993\n"
     ]
    },
    {
     "name": "stderr",
     "output_type": "stream",
     "text": [
      "100%|██████████| 469/469 [00:06<00:00, 76.61it/s]\n",
      "Testing: 100%|██████████| 79/79 [00:00<00:00, 85.45it/s] \n"
     ]
    },
    {
     "name": "stdout",
     "output_type": "stream",
     "text": [
      "====> Test set loss: 141.0411 (BCE: 134.3115, KLD: 6.7296)\n",
      "Epoch 24/50\n"
     ]
    },
    {
     "name": "stderr",
     "output_type": "stream",
     "text": [
      "  6%|▌         | 26/469 [00:00<00:07, 58.07it/s]"
     ]
    },
    {
     "name": "stdout",
     "output_type": "stream",
     "text": [
      "Step 10,800 (N samples: 1,382,400), Loss: 146.1846 (Recon: 139.2905, KL: 6.8941) Grad: 222.2152\n"
     ]
    },
    {
     "name": "stderr",
     "output_type": "stream",
     "text": [
      " 27%|██▋       | 126/469 [00:01<00:04, 84.16it/s]"
     ]
    },
    {
     "name": "stdout",
     "output_type": "stream",
     "text": [
      "Step 10,900 (N samples: 1,395,200), Loss: 136.2249 (Recon: 129.3575, KL: 6.8674) Grad: 141.8773\n"
     ]
    },
    {
     "name": "stderr",
     "output_type": "stream",
     "text": [
      " 48%|████▊     | 225/469 [00:02<00:02, 83.34it/s]"
     ]
    },
    {
     "name": "stdout",
     "output_type": "stream",
     "text": [
      "Step 11,000 (N samples: 1,408,000), Loss: 137.2110 (Recon: 130.4188, KL: 6.7921) Grad: 230.1083\n"
     ]
    },
    {
     "name": "stderr",
     "output_type": "stream",
     "text": [
      " 69%|██████▉   | 324/469 [00:04<00:01, 81.12it/s]"
     ]
    },
    {
     "name": "stdout",
     "output_type": "stream",
     "text": [
      "Step 11,100 (N samples: 1,420,800), Loss: 136.1606 (Recon: 129.3139, KL: 6.8466) Grad: 192.6496\n"
     ]
    },
    {
     "name": "stderr",
     "output_type": "stream",
     "text": [
      " 90%|█████████ | 424/469 [00:05<00:00, 82.94it/s]"
     ]
    },
    {
     "name": "stdout",
     "output_type": "stream",
     "text": [
      "Step 11,200 (N samples: 1,433,600), Loss: 140.5367 (Recon: 133.8495, KL: 6.6871) Grad: 133.8624\n"
     ]
    },
    {
     "name": "stderr",
     "output_type": "stream",
     "text": [
      "100%|██████████| 469/469 [00:05<00:00, 79.45it/s]\n",
      "Testing: 100%|██████████| 79/79 [00:00<00:00, 86.69it/s] \n"
     ]
    },
    {
     "name": "stdout",
     "output_type": "stream",
     "text": [
      "====> Test set loss: 138.4363 (BCE: 131.5247, KLD: 6.9116)\n",
      "Epoch 25/50\n"
     ]
    },
    {
     "name": "stderr",
     "output_type": "stream",
     "text": [
      " 12%|█▏        | 54/469 [00:00<00:05, 75.98it/s]"
     ]
    },
    {
     "name": "stdout",
     "output_type": "stream",
     "text": [
      "Step 11,300 (N samples: 1,446,400), Loss: 135.9254 (Recon: 129.0962, KL: 6.8292) Grad: 92.9590\n"
     ]
    },
    {
     "name": "stderr",
     "output_type": "stream",
     "text": [
      " 33%|███▎      | 154/469 [00:02<00:03, 83.18it/s]"
     ]
    },
    {
     "name": "stdout",
     "output_type": "stream",
     "text": [
      "Step 11,400 (N samples: 1,459,200), Loss: 132.7173 (Recon: 125.5192, KL: 7.1981) Grad: 205.9227\n"
     ]
    },
    {
     "name": "stderr",
     "output_type": "stream",
     "text": [
      " 54%|█████▍    | 255/469 [00:03<00:02, 82.19it/s]"
     ]
    },
    {
     "name": "stdout",
     "output_type": "stream",
     "text": [
      "Step 11,500 (N samples: 1,472,000), Loss: 145.1246 (Recon: 138.3308, KL: 6.7938) Grad: 179.7447\n"
     ]
    },
    {
     "name": "stderr",
     "output_type": "stream",
     "text": [
      " 76%|███████▌  | 355/469 [00:04<00:01, 83.22it/s]"
     ]
    },
    {
     "name": "stdout",
     "output_type": "stream",
     "text": [
      "Step 11,600 (N samples: 1,484,800), Loss: 137.7742 (Recon: 130.8931, KL: 6.8811) Grad: 135.2024\n"
     ]
    },
    {
     "name": "stderr",
     "output_type": "stream",
     "text": [
      " 97%|█████████▋| 456/469 [00:05<00:00, 85.81it/s]"
     ]
    },
    {
     "name": "stdout",
     "output_type": "stream",
     "text": [
      "Step 11,700 (N samples: 1,497,600), Loss: 142.5642 (Recon: 135.5107, KL: 7.0535) Grad: 97.1070\n"
     ]
    },
    {
     "name": "stderr",
     "output_type": "stream",
     "text": [
      "100%|██████████| 469/469 [00:05<00:00, 79.75it/s]\n",
      "Testing: 100%|██████████| 79/79 [00:00<00:00, 86.99it/s] \n"
     ]
    },
    {
     "name": "stdout",
     "output_type": "stream",
     "text": [
      "====> Test set loss: 143.9846 (BCE: 137.1146, KLD: 6.8700)\n",
      "Epoch 26/50\n"
     ]
    },
    {
     "name": "stderr",
     "output_type": "stream",
     "text": [
      " 19%|█▊        | 87/469 [00:01<00:04, 81.09it/s]"
     ]
    },
    {
     "name": "stdout",
     "output_type": "stream",
     "text": [
      "Step 11,800 (N samples: 1,510,400), Loss: 138.6688 (Recon: 131.9281, KL: 6.7407) Grad: 163.1991\n"
     ]
    },
    {
     "name": "stderr",
     "output_type": "stream",
     "text": [
      " 40%|████      | 188/469 [00:02<00:03, 84.00it/s]"
     ]
    },
    {
     "name": "stdout",
     "output_type": "stream",
     "text": [
      "Step 11,900 (N samples: 1,523,200), Loss: 144.0234 (Recon: 137.2465, KL: 6.7769) Grad: 124.0436\n"
     ]
    },
    {
     "name": "stderr",
     "output_type": "stream",
     "text": [
      " 61%|██████    | 287/469 [00:03<00:02, 84.07it/s]"
     ]
    },
    {
     "name": "stdout",
     "output_type": "stream",
     "text": [
      "Step 12,000 (N samples: 1,536,000), Loss: 142.2788 (Recon: 135.0423, KL: 7.2365) Grad: 189.7948\n"
     ]
    },
    {
     "name": "stderr",
     "output_type": "stream",
     "text": [
      " 83%|████████▎ | 387/469 [00:04<00:00, 82.12it/s]"
     ]
    },
    {
     "name": "stdout",
     "output_type": "stream",
     "text": [
      "Step 12,100 (N samples: 1,548,800), Loss: 137.2086 (Recon: 130.3660, KL: 6.8426) Grad: 121.4278\n"
     ]
    },
    {
     "name": "stderr",
     "output_type": "stream",
     "text": [
      "100%|██████████| 469/469 [00:05<00:00, 80.06it/s]\n",
      "Testing: 100%|██████████| 79/79 [00:00<00:00, 86.10it/s]\n"
     ]
    },
    {
     "name": "stdout",
     "output_type": "stream",
     "text": [
      "====> Test set loss: 143.9787 (BCE: 136.9941, KLD: 6.9846)\n",
      "Epoch 27/50\n"
     ]
    },
    {
     "name": "stderr",
     "output_type": "stream",
     "text": [
      "  4%|▍         | 18/469 [00:00<00:09, 47.34it/s]"
     ]
    },
    {
     "name": "stdout",
     "output_type": "stream",
     "text": [
      "Step 12,200 (N samples: 1,561,600), Loss: 142.8686 (Recon: 135.8919, KL: 6.9767) Grad: 303.8892\n"
     ]
    },
    {
     "name": "stderr",
     "output_type": "stream",
     "text": [
      " 25%|██▍       | 117/469 [00:01<00:04, 85.74it/s]"
     ]
    },
    {
     "name": "stdout",
     "output_type": "stream",
     "text": [
      "Step 12,300 (N samples: 1,574,400), Loss: 148.1323 (Recon: 141.3851, KL: 6.7473) Grad: 253.5000\n"
     ]
    },
    {
     "name": "stderr",
     "output_type": "stream",
     "text": [
      " 46%|████▌     | 215/469 [00:02<00:03, 78.30it/s]"
     ]
    },
    {
     "name": "stdout",
     "output_type": "stream",
     "text": [
      "Step 12,400 (N samples: 1,587,200), Loss: 135.9226 (Recon: 128.9742, KL: 6.9483) Grad: 100.2170\n"
     ]
    },
    {
     "name": "stderr",
     "output_type": "stream",
     "text": [
      " 68%|██████▊   | 318/469 [00:04<00:02, 62.34it/s]"
     ]
    },
    {
     "name": "stdout",
     "output_type": "stream",
     "text": [
      "Step 12,500 (N samples: 1,600,000), Loss: 136.5751 (Recon: 129.6652, KL: 6.9099) Grad: 160.8200\n"
     ]
    },
    {
     "name": "stderr",
     "output_type": "stream",
     "text": [
      " 89%|████████▉ | 419/469 [00:05<00:00, 78.91it/s]"
     ]
    },
    {
     "name": "stdout",
     "output_type": "stream",
     "text": [
      "Step 12,600 (N samples: 1,612,800), Loss: 143.2707 (Recon: 136.4131, KL: 6.8576) Grad: 161.4646\n"
     ]
    },
    {
     "name": "stderr",
     "output_type": "stream",
     "text": [
      "100%|██████████| 469/469 [00:06<00:00, 74.32it/s]\n",
      "Testing: 100%|██████████| 79/79 [00:00<00:00, 86.13it/s]\n"
     ]
    },
    {
     "name": "stdout",
     "output_type": "stream",
     "text": [
      "====> Test set loss: 139.8513 (BCE: 132.9478, KLD: 6.9035)\n",
      "Epoch 28/50\n"
     ]
    },
    {
     "name": "stderr",
     "output_type": "stream",
     "text": [
      " 11%|█         | 51/469 [00:00<00:05, 73.03it/s]"
     ]
    },
    {
     "name": "stdout",
     "output_type": "stream",
     "text": [
      "Step 12,700 (N samples: 1,625,600), Loss: 143.7501 (Recon: 137.0170, KL: 6.7331) Grad: 159.7500\n"
     ]
    },
    {
     "name": "stderr",
     "output_type": "stream",
     "text": [
      " 32%|███▏      | 151/469 [00:02<00:03, 81.56it/s]"
     ]
    },
    {
     "name": "stdout",
     "output_type": "stream",
     "text": [
      "Step 12,800 (N samples: 1,638,400), Loss: 139.8436 (Recon: 132.8784, KL: 6.9651) Grad: 156.1192\n"
     ]
    },
    {
     "name": "stderr",
     "output_type": "stream",
     "text": [
      " 54%|█████▎    | 252/469 [00:03<00:02, 85.47it/s]"
     ]
    },
    {
     "name": "stdout",
     "output_type": "stream",
     "text": [
      "Step 12,900 (N samples: 1,651,200), Loss: 134.2620 (Recon: 127.3721, KL: 6.8899) Grad: 170.5166\n"
     ]
    },
    {
     "name": "stderr",
     "output_type": "stream",
     "text": [
      " 75%|███████▍  | 351/469 [00:04<00:01, 84.76it/s]"
     ]
    },
    {
     "name": "stdout",
     "output_type": "stream",
     "text": [
      "Step 13,000 (N samples: 1,664,000), Loss: 138.5726 (Recon: 131.7032, KL: 6.8694) Grad: 113.0303\n"
     ]
    },
    {
     "name": "stderr",
     "output_type": "stream",
     "text": [
      " 96%|█████████▌| 450/469 [00:05<00:00, 83.04it/s]"
     ]
    },
    {
     "name": "stdout",
     "output_type": "stream",
     "text": [
      "Step 13,100 (N samples: 1,676,800), Loss: 130.5827 (Recon: 123.6688, KL: 6.9140) Grad: 165.3729\n"
     ]
    },
    {
     "name": "stderr",
     "output_type": "stream",
     "text": [
      "100%|██████████| 469/469 [00:05<00:00, 79.24it/s]\n",
      "Testing: 100%|██████████| 79/79 [00:00<00:00, 88.33it/s] \n"
     ]
    },
    {
     "name": "stdout",
     "output_type": "stream",
     "text": [
      "====> Test set loss: 140.4378 (BCE: 133.6939, KLD: 6.7439)\n",
      "Epoch 29/50\n"
     ]
    },
    {
     "name": "stderr",
     "output_type": "stream",
     "text": [
      " 17%|█▋        | 79/469 [00:01<00:04, 79.34it/s]"
     ]
    },
    {
     "name": "stdout",
     "output_type": "stream",
     "text": [
      "Step 13,200 (N samples: 1,689,600), Loss: 133.9257 (Recon: 126.8190, KL: 7.1068) Grad: 136.2037\n"
     ]
    },
    {
     "name": "stderr",
     "output_type": "stream",
     "text": [
      " 38%|███▊      | 178/469 [00:02<00:03, 82.73it/s]"
     ]
    },
    {
     "name": "stdout",
     "output_type": "stream",
     "text": [
      "Step 13,300 (N samples: 1,702,400), Loss: 138.7218 (Recon: 131.9061, KL: 6.8157) Grad: 257.6743\n"
     ]
    },
    {
     "name": "stderr",
     "output_type": "stream",
     "text": [
      " 59%|█████▉    | 278/469 [00:03<00:02, 86.46it/s]"
     ]
    },
    {
     "name": "stdout",
     "output_type": "stream",
     "text": [
      "Step 13,400 (N samples: 1,715,200), Loss: 144.1644 (Recon: 137.1707, KL: 6.9937) Grad: 172.2045\n"
     ]
    },
    {
     "name": "stderr",
     "output_type": "stream",
     "text": [
      " 81%|████████  | 379/469 [00:04<00:01, 85.39it/s]"
     ]
    },
    {
     "name": "stdout",
     "output_type": "stream",
     "text": [
      "Step 13,500 (N samples: 1,728,000), Loss: 138.2195 (Recon: 131.4596, KL: 6.7599) Grad: 188.0440\n"
     ]
    },
    {
     "name": "stderr",
     "output_type": "stream",
     "text": [
      "100%|██████████| 469/469 [00:05<00:00, 79.60it/s]\n"
     ]
    },
    {
     "name": "stdout",
     "output_type": "stream",
     "text": [
      "Step 13,600 (N samples: 1,740,800), Loss: 135.8297 (Recon: 129.1007, KL: 6.7290) Grad: 232.9785\n"
     ]
    },
    {
     "name": "stderr",
     "output_type": "stream",
     "text": [
      "Testing: 100%|██████████| 79/79 [00:00<00:00, 86.55it/s] \n"
     ]
    },
    {
     "name": "stdout",
     "output_type": "stream",
     "text": [
      "====> Test set loss: 138.8960 (BCE: 132.1027, KLD: 6.7932)\n",
      "Epoch 30/50\n"
     ]
    },
    {
     "name": "stderr",
     "output_type": "stream",
     "text": [
      " 25%|██▍       | 116/469 [00:01<00:04, 84.17it/s]"
     ]
    },
    {
     "name": "stdout",
     "output_type": "stream",
     "text": [
      "Step 13,700 (N samples: 1,753,600), Loss: 140.8247 (Recon: 133.7757, KL: 7.0491) Grad: 121.6147\n"
     ]
    },
    {
     "name": "stderr",
     "output_type": "stream",
     "text": [
      " 46%|████▌     | 215/469 [00:02<00:03, 81.45it/s]"
     ]
    },
    {
     "name": "stdout",
     "output_type": "stream",
     "text": [
      "Step 13,800 (N samples: 1,766,400), Loss: 133.6632 (Recon: 126.8751, KL: 6.7881) Grad: 195.3972\n"
     ]
    },
    {
     "name": "stderr",
     "output_type": "stream",
     "text": [
      " 67%|██████▋   | 316/469 [00:04<00:01, 84.65it/s]"
     ]
    },
    {
     "name": "stdout",
     "output_type": "stream",
     "text": [
      "Step 13,900 (N samples: 1,779,200), Loss: 127.5009 (Recon: 120.4980, KL: 7.0029) Grad: 141.6266\n"
     ]
    },
    {
     "name": "stderr",
     "output_type": "stream",
     "text": [
      " 88%|████████▊ | 415/469 [00:05<00:00, 82.79it/s]"
     ]
    },
    {
     "name": "stdout",
     "output_type": "stream",
     "text": [
      "Step 14,000 (N samples: 1,792,000), Loss: 141.0238 (Recon: 134.1363, KL: 6.8875) Grad: 89.4151\n"
     ]
    },
    {
     "name": "stderr",
     "output_type": "stream",
     "text": [
      "100%|██████████| 469/469 [00:05<00:00, 79.65it/s]\n",
      "Testing: 100%|██████████| 79/79 [00:00<00:00, 85.53it/s] \n"
     ]
    },
    {
     "name": "stdout",
     "output_type": "stream",
     "text": [
      "====> Test set loss: 138.8417 (BCE: 131.8763, KLD: 6.9654)\n",
      "Epoch 31/50\n"
     ]
    },
    {
     "name": "stderr",
     "output_type": "stream",
     "text": [
      "  9%|▉         | 44/469 [00:00<00:05, 73.10it/s]"
     ]
    },
    {
     "name": "stdout",
     "output_type": "stream",
     "text": [
      "Step 14,100 (N samples: 1,804,800), Loss: 142.3224 (Recon: 135.4507, KL: 6.8717) Grad: 173.7012\n"
     ]
    },
    {
     "name": "stderr",
     "output_type": "stream",
     "text": [
      " 31%|███       | 145/469 [00:01<00:03, 83.50it/s]"
     ]
    },
    {
     "name": "stdout",
     "output_type": "stream",
     "text": [
      "Step 14,200 (N samples: 1,817,600), Loss: 141.3085 (Recon: 134.2895, KL: 7.0190) Grad: 191.7875\n"
     ]
    },
    {
     "name": "stderr",
     "output_type": "stream",
     "text": [
      " 52%|█████▏    | 244/469 [00:03<00:02, 83.09it/s]"
     ]
    },
    {
     "name": "stdout",
     "output_type": "stream",
     "text": [
      "Step 14,300 (N samples: 1,830,400), Loss: 140.4777 (Recon: 133.4806, KL: 6.9971) Grad: 177.3752\n"
     ]
    },
    {
     "name": "stderr",
     "output_type": "stream",
     "text": [
      " 73%|███████▎  | 344/469 [00:04<00:01, 81.99it/s]"
     ]
    },
    {
     "name": "stdout",
     "output_type": "stream",
     "text": [
      "Step 14,400 (N samples: 1,843,200), Loss: 138.8056 (Recon: 131.9622, KL: 6.8434) Grad: 130.1624\n"
     ]
    },
    {
     "name": "stderr",
     "output_type": "stream",
     "text": [
      " 94%|█████████▍| 443/469 [00:05<00:00, 83.25it/s]"
     ]
    },
    {
     "name": "stdout",
     "output_type": "stream",
     "text": [
      "Step 14,500 (N samples: 1,856,000), Loss: 145.1400 (Recon: 138.4136, KL: 6.7264) Grad: 99.8882\n"
     ]
    },
    {
     "name": "stderr",
     "output_type": "stream",
     "text": [
      "100%|██████████| 469/469 [00:05<00:00, 79.65it/s]\n",
      "Testing: 100%|██████████| 79/79 [00:00<00:00, 88.10it/s] \n"
     ]
    },
    {
     "name": "stdout",
     "output_type": "stream",
     "text": [
      "====> Test set loss: 140.3084 (BCE: 133.3097, KLD: 6.9987)\n",
      "Epoch 32/50\n"
     ]
    },
    {
     "name": "stderr",
     "output_type": "stream",
     "text": [
      " 17%|█▋        | 79/469 [00:01<00:04, 82.04it/s]"
     ]
    },
    {
     "name": "stdout",
     "output_type": "stream",
     "text": [
      "Step 14,600 (N samples: 1,868,800), Loss: 140.8275 (Recon: 133.6516, KL: 7.1759) Grad: 129.1764\n"
     ]
    },
    {
     "name": "stderr",
     "output_type": "stream",
     "text": [
      " 36%|███▌      | 170/469 [00:02<00:03, 75.13it/s]"
     ]
    },
    {
     "name": "stdout",
     "output_type": "stream",
     "text": [
      "Step 14,700 (N samples: 1,881,600), Loss: 137.2728 (Recon: 130.4688, KL: 6.8040) Grad: 194.8953\n"
     ]
    },
    {
     "name": "stderr",
     "output_type": "stream",
     "text": [
      " 59%|█████▊    | 275/469 [00:03<00:02, 80.71it/s]"
     ]
    },
    {
     "name": "stdout",
     "output_type": "stream",
     "text": [
      "Step 14,800 (N samples: 1,894,400), Loss: 140.6377 (Recon: 133.7216, KL: 6.9161) Grad: 379.5249\n"
     ]
    },
    {
     "name": "stderr",
     "output_type": "stream",
     "text": [
      " 80%|███████▉  | 375/469 [00:04<00:01, 83.49it/s]"
     ]
    },
    {
     "name": "stdout",
     "output_type": "stream",
     "text": [
      "Step 14,900 (N samples: 1,907,200), Loss: 136.5340 (Recon: 129.7244, KL: 6.8096) Grad: 268.7904\n"
     ]
    },
    {
     "name": "stderr",
     "output_type": "stream",
     "text": [
      "100%|██████████| 469/469 [00:05<00:00, 78.27it/s]\n"
     ]
    },
    {
     "name": "stdout",
     "output_type": "stream",
     "text": [
      "Step 15,000 (N samples: 1,920,000), Loss: 136.6175 (Recon: 129.7859, KL: 6.8316) Grad: 148.3397\n"
     ]
    },
    {
     "name": "stderr",
     "output_type": "stream",
     "text": [
      "Testing: 100%|██████████| 79/79 [00:00<00:00, 87.19it/s] \n"
     ]
    },
    {
     "name": "stdout",
     "output_type": "stream",
     "text": [
      "====> Test set loss: 139.8658 (BCE: 132.9550, KLD: 6.9108)\n",
      "Epoch 33/50\n"
     ]
    },
    {
     "name": "stderr",
     "output_type": "stream",
     "text": [
      " 23%|██▎       | 107/469 [00:01<00:04, 82.18it/s]"
     ]
    },
    {
     "name": "stdout",
     "output_type": "stream",
     "text": [
      "Step 15,100 (N samples: 1,932,800), Loss: 137.5704 (Recon: 130.4758, KL: 7.0946) Grad: 158.3540\n"
     ]
    },
    {
     "name": "stderr",
     "output_type": "stream",
     "text": [
      " 45%|████▍     | 209/469 [00:02<00:03, 82.96it/s]"
     ]
    },
    {
     "name": "stdout",
     "output_type": "stream",
     "text": [
      "Step 15,200 (N samples: 1,945,600), Loss: 140.5038 (Recon: 133.6208, KL: 6.8830) Grad: 126.9792\n"
     ]
    },
    {
     "name": "stderr",
     "output_type": "stream",
     "text": [
      " 66%|██████▌   | 309/469 [00:03<00:01, 82.34it/s]"
     ]
    },
    {
     "name": "stdout",
     "output_type": "stream",
     "text": [
      "Step 15,300 (N samples: 1,958,400), Loss: 143.9667 (Recon: 137.1069, KL: 6.8599) Grad: 177.0134\n"
     ]
    },
    {
     "name": "stderr",
     "output_type": "stream",
     "text": [
      " 87%|████████▋ | 408/469 [00:05<00:00, 84.16it/s]"
     ]
    },
    {
     "name": "stdout",
     "output_type": "stream",
     "text": [
      "Step 15,400 (N samples: 1,971,200), Loss: 148.3221 (Recon: 141.7414, KL: 6.5807) Grad: 199.3350\n"
     ]
    },
    {
     "name": "stderr",
     "output_type": "stream",
     "text": [
      "100%|██████████| 469/469 [00:05<00:00, 79.60it/s]\n",
      "Testing: 100%|██████████| 79/79 [00:00<00:00, 85.82it/s]\n"
     ]
    },
    {
     "name": "stdout",
     "output_type": "stream",
     "text": [
      "====> Test set loss: 140.4273 (BCE: 133.6033, KLD: 6.8240)\n",
      "Epoch 34/50\n"
     ]
    },
    {
     "name": "stderr",
     "output_type": "stream",
     "text": [
      "  8%|▊         | 38/469 [00:00<00:06, 69.89it/s]"
     ]
    },
    {
     "name": "stdout",
     "output_type": "stream",
     "text": [
      "Step 15,500 (N samples: 1,984,000), Loss: 137.4813 (Recon: 130.6144, KL: 6.8670) Grad: 175.9050\n"
     ]
    },
    {
     "name": "stderr",
     "output_type": "stream",
     "text": [
      " 29%|██▉       | 138/469 [00:01<00:04, 82.39it/s]"
     ]
    },
    {
     "name": "stdout",
     "output_type": "stream",
     "text": [
      "Step 15,600 (N samples: 1,996,800), Loss: 131.9693 (Recon: 125.1284, KL: 6.8408) Grad: 145.1958\n"
     ]
    },
    {
     "name": "stderr",
     "output_type": "stream",
     "text": [
      " 51%|█████     | 237/469 [00:03<00:02, 80.58it/s]"
     ]
    },
    {
     "name": "stdout",
     "output_type": "stream",
     "text": [
      "Step 15,700 (N samples: 2,009,600), Loss: 143.1380 (Recon: 136.2741, KL: 6.8639) Grad: 223.6709\n"
     ]
    },
    {
     "name": "stderr",
     "output_type": "stream",
     "text": [
      " 72%|███████▏  | 336/469 [00:04<00:01, 81.22it/s]"
     ]
    },
    {
     "name": "stdout",
     "output_type": "stream",
     "text": [
      "Step 15,800 (N samples: 2,022,400), Loss: 138.5692 (Recon: 131.4836, KL: 7.0857) Grad: 156.8939\n"
     ]
    },
    {
     "name": "stderr",
     "output_type": "stream",
     "text": [
      " 93%|█████████▎| 436/469 [00:05<00:00, 83.84it/s]"
     ]
    },
    {
     "name": "stdout",
     "output_type": "stream",
     "text": [
      "Step 15,900 (N samples: 2,035,200), Loss: 137.8517 (Recon: 130.9566, KL: 6.8951) Grad: 151.4522\n"
     ]
    },
    {
     "name": "stderr",
     "output_type": "stream",
     "text": [
      "100%|██████████| 469/469 [00:05<00:00, 79.15it/s]\n",
      "Testing: 100%|██████████| 79/79 [00:00<00:00, 87.07it/s] \n"
     ]
    },
    {
     "name": "stdout",
     "output_type": "stream",
     "text": [
      "====> Test set loss: 138.2539 (BCE: 131.2855, KLD: 6.9683)\n",
      "Epoch 35/50\n"
     ]
    },
    {
     "name": "stderr",
     "output_type": "stream",
     "text": [
      " 15%|█▌        | 72/469 [00:01<00:04, 81.16it/s]"
     ]
    },
    {
     "name": "stdout",
     "output_type": "stream",
     "text": [
      "Step 16,000 (N samples: 2,048,000), Loss: 141.2833 (Recon: 134.2882, KL: 6.9951) Grad: 98.0550\n"
     ]
    },
    {
     "name": "stderr",
     "output_type": "stream",
     "text": [
      " 35%|███▍      | 163/469 [00:02<00:03, 85.57it/s]"
     ]
    },
    {
     "name": "stdout",
     "output_type": "stream",
     "text": [
      "Step 16,100 (N samples: 2,060,800), Loss: 139.8573 (Recon: 133.1106, KL: 6.7467) Grad: 135.8575\n"
     ]
    },
    {
     "name": "stderr",
     "output_type": "stream",
     "text": [
      " 58%|█████▊    | 271/469 [00:03<00:02, 82.83it/s]"
     ]
    },
    {
     "name": "stdout",
     "output_type": "stream",
     "text": [
      "Step 16,200 (N samples: 2,073,600), Loss: 145.1257 (Recon: 138.0283, KL: 7.0974) Grad: 273.2961\n"
     ]
    },
    {
     "name": "stderr",
     "output_type": "stream",
     "text": [
      " 79%|███████▉  | 371/469 [00:04<00:01, 83.24it/s]"
     ]
    },
    {
     "name": "stdout",
     "output_type": "stream",
     "text": [
      "Step 16,300 (N samples: 2,086,400), Loss: 140.2740 (Recon: 133.3329, KL: 6.9410) Grad: 238.6475\n"
     ]
    },
    {
     "name": "stderr",
     "output_type": "stream",
     "text": [
      "100%|██████████| 469/469 [00:05<00:00, 79.23it/s]\n"
     ]
    },
    {
     "name": "stdout",
     "output_type": "stream",
     "text": [
      "Step 16,400 (N samples: 2,099,200), Loss: 146.0937 (Recon: 139.1443, KL: 6.9494) Grad: 147.2128\n"
     ]
    },
    {
     "name": "stderr",
     "output_type": "stream",
     "text": [
      "Testing: 100%|██████████| 79/79 [00:00<00:00, 86.49it/s] \n"
     ]
    },
    {
     "name": "stdout",
     "output_type": "stream",
     "text": [
      "====> Test set loss: 140.4655 (BCE: 133.5973, KLD: 6.8682)\n",
      "Epoch 36/50\n"
     ]
    },
    {
     "name": "stderr",
     "output_type": "stream",
     "text": [
      " 21%|██        | 99/469 [00:01<00:04, 82.40it/s]"
     ]
    },
    {
     "name": "stdout",
     "output_type": "stream",
     "text": [
      "Step 16,500 (N samples: 2,112,000), Loss: 142.1362 (Recon: 135.4810, KL: 6.6552) Grad: 219.7484\n"
     ]
    },
    {
     "name": "stderr",
     "output_type": "stream",
     "text": [
      " 42%|████▏     | 198/469 [00:02<00:03, 82.64it/s]"
     ]
    },
    {
     "name": "stdout",
     "output_type": "stream",
     "text": [
      "Step 16,600 (N samples: 2,124,800), Loss: 139.6452 (Recon: 132.8502, KL: 6.7950) Grad: 219.7703\n"
     ]
    },
    {
     "name": "stderr",
     "output_type": "stream",
     "text": [
      " 63%|██████▎   | 297/469 [00:03<00:02, 83.90it/s]"
     ]
    },
    {
     "name": "stdout",
     "output_type": "stream",
     "text": [
      "Step 16,700 (N samples: 2,137,600), Loss: 138.7441 (Recon: 131.6803, KL: 7.0639) Grad: 298.2060\n"
     ]
    },
    {
     "name": "stderr",
     "output_type": "stream",
     "text": [
      " 85%|████████▍ | 397/469 [00:05<00:00, 83.95it/s]"
     ]
    },
    {
     "name": "stdout",
     "output_type": "stream",
     "text": [
      "Step 16,800 (N samples: 2,150,400), Loss: 146.0917 (Recon: 139.1516, KL: 6.9401) Grad: 123.6541\n"
     ]
    },
    {
     "name": "stderr",
     "output_type": "stream",
     "text": [
      "100%|██████████| 469/469 [00:05<00:00, 79.48it/s]\n",
      "Testing: 100%|██████████| 79/79 [00:00<00:00, 85.61it/s] \n"
     ]
    },
    {
     "name": "stdout",
     "output_type": "stream",
     "text": [
      "====> Test set loss: 139.2684 (BCE: 132.2974, KLD: 6.9710)\n",
      "Epoch 37/50\n"
     ]
    },
    {
     "name": "stderr",
     "output_type": "stream",
     "text": [
      "  6%|▌         | 26/469 [00:00<00:07, 57.76it/s]"
     ]
    },
    {
     "name": "stdout",
     "output_type": "stream",
     "text": [
      "Step 16,900 (N samples: 2,163,200), Loss: 135.3047 (Recon: 128.4175, KL: 6.8872) Grad: 183.4656\n"
     ]
    },
    {
     "name": "stderr",
     "output_type": "stream",
     "text": [
      " 27%|██▋       | 125/469 [00:01<00:04, 83.31it/s]"
     ]
    },
    {
     "name": "stdout",
     "output_type": "stream",
     "text": [
      "Step 17,000 (N samples: 2,176,000), Loss: 149.4761 (Recon: 142.6640, KL: 6.8121) Grad: 164.5673\n"
     ]
    },
    {
     "name": "stderr",
     "output_type": "stream",
     "text": [
      " 50%|████▉     | 233/469 [00:03<00:02, 84.82it/s]"
     ]
    },
    {
     "name": "stdout",
     "output_type": "stream",
     "text": [
      "Step 17,100 (N samples: 2,188,800), Loss: 139.7274 (Recon: 132.9387, KL: 6.7887) Grad: 138.3277\n"
     ]
    },
    {
     "name": "stderr",
     "output_type": "stream",
     "text": [
      " 71%|███████   | 332/469 [00:04<00:01, 83.12it/s]"
     ]
    },
    {
     "name": "stdout",
     "output_type": "stream",
     "text": [
      "Step 17,200 (N samples: 2,201,600), Loss: 132.6578 (Recon: 125.8733, KL: 6.7845) Grad: 146.3403\n"
     ]
    },
    {
     "name": "stderr",
     "output_type": "stream",
     "text": [
      " 92%|█████████▏| 431/469 [00:05<00:00, 82.59it/s]"
     ]
    },
    {
     "name": "stdout",
     "output_type": "stream",
     "text": [
      "Step 17,300 (N samples: 2,214,400), Loss: 134.3913 (Recon: 127.3921, KL: 6.9992) Grad: 185.0181\n"
     ]
    },
    {
     "name": "stderr",
     "output_type": "stream",
     "text": [
      "100%|██████████| 469/469 [00:05<00:00, 79.53it/s]\n",
      "Testing: 100%|██████████| 79/79 [00:00<00:00, 85.69it/s]\n"
     ]
    },
    {
     "name": "stdout",
     "output_type": "stream",
     "text": [
      "====> Test set loss: 139.5156 (BCE: 132.5506, KLD: 6.9650)\n",
      "Epoch 38/50\n"
     ]
    },
    {
     "name": "stderr",
     "output_type": "stream",
     "text": [
      " 13%|█▎        | 63/469 [00:01<00:05, 76.93it/s]"
     ]
    },
    {
     "name": "stdout",
     "output_type": "stream",
     "text": [
      "Step 17,400 (N samples: 2,227,200), Loss: 141.8672 (Recon: 134.8076, KL: 7.0596) Grad: 196.8838\n"
     ]
    },
    {
     "name": "stderr",
     "output_type": "stream",
     "text": [
      " 35%|███▍      | 162/469 [00:02<00:03, 83.03it/s]"
     ]
    },
    {
     "name": "stdout",
     "output_type": "stream",
     "text": [
      "Step 17,500 (N samples: 2,240,000), Loss: 143.4656 (Recon: 136.5670, KL: 6.8986) Grad: 270.7465\n"
     ]
    },
    {
     "name": "stderr",
     "output_type": "stream",
     "text": [
      " 56%|█████▌    | 262/469 [00:03<00:02, 83.54it/s]"
     ]
    },
    {
     "name": "stdout",
     "output_type": "stream",
     "text": [
      "Step 17,600 (N samples: 2,252,800), Loss: 140.4813 (Recon: 133.4737, KL: 7.0077) Grad: 150.6046\n"
     ]
    },
    {
     "name": "stderr",
     "output_type": "stream",
     "text": [
      " 77%|███████▋  | 361/469 [00:04<00:01, 81.93it/s]"
     ]
    },
    {
     "name": "stdout",
     "output_type": "stream",
     "text": [
      "Step 17,700 (N samples: 2,265,600), Loss: 137.8513 (Recon: 130.8291, KL: 7.0221) Grad: 234.4965\n"
     ]
    },
    {
     "name": "stderr",
     "output_type": "stream",
     "text": [
      " 98%|█████████▊| 461/469 [00:05<00:00, 85.92it/s]"
     ]
    },
    {
     "name": "stdout",
     "output_type": "stream",
     "text": [
      "Step 17,800 (N samples: 2,278,400), Loss: 140.6274 (Recon: 133.6535, KL: 6.9738) Grad: 168.0758\n"
     ]
    },
    {
     "name": "stderr",
     "output_type": "stream",
     "text": [
      "100%|██████████| 469/469 [00:05<00:00, 79.09it/s]\n",
      "Testing: 100%|██████████| 79/79 [00:00<00:00, 84.88it/s] \n"
     ]
    },
    {
     "name": "stdout",
     "output_type": "stream",
     "text": [
      "====> Test set loss: 140.2098 (BCE: 133.2739, KLD: 6.9359)\n",
      "Epoch 39/50\n"
     ]
    },
    {
     "name": "stderr",
     "output_type": "stream",
     "text": [
      " 19%|█▉        | 89/469 [00:01<00:04, 82.71it/s]"
     ]
    },
    {
     "name": "stdout",
     "output_type": "stream",
     "text": [
      "Step 17,900 (N samples: 2,291,200), Loss: 151.3491 (Recon: 144.4744, KL: 6.8747) Grad: 159.7670\n"
     ]
    },
    {
     "name": "stderr",
     "output_type": "stream",
     "text": [
      " 40%|████      | 188/469 [00:02<00:03, 83.85it/s]"
     ]
    },
    {
     "name": "stdout",
     "output_type": "stream",
     "text": [
      "Step 18,000 (N samples: 2,304,000), Loss: 139.8891 (Recon: 133.0472, KL: 6.8419) Grad: 150.2752\n"
     ]
    },
    {
     "name": "stderr",
     "output_type": "stream",
     "text": [
      " 61%|██████▏   | 288/469 [00:03<00:02, 84.94it/s]"
     ]
    },
    {
     "name": "stdout",
     "output_type": "stream",
     "text": [
      "Step 18,100 (N samples: 2,316,800), Loss: 140.1460 (Recon: 133.1491, KL: 6.9969) Grad: 152.9168\n"
     ]
    },
    {
     "name": "stderr",
     "output_type": "stream",
     "text": [
      " 84%|████████▍ | 396/469 [00:05<00:00, 83.05it/s]"
     ]
    },
    {
     "name": "stdout",
     "output_type": "stream",
     "text": [
      "Step 18,200 (N samples: 2,329,600), Loss: 142.4151 (Recon: 135.5586, KL: 6.8566) Grad: 249.7759\n"
     ]
    },
    {
     "name": "stderr",
     "output_type": "stream",
     "text": [
      "100%|██████████| 469/469 [00:05<00:00, 79.68it/s]\n",
      "Testing: 100%|██████████| 79/79 [00:00<00:00, 86.74it/s] \n"
     ]
    },
    {
     "name": "stdout",
     "output_type": "stream",
     "text": [
      "====> Test set loss: 143.4309 (BCE: 136.5811, KLD: 6.8498)\n",
      "Epoch 40/50\n"
     ]
    },
    {
     "name": "stderr",
     "output_type": "stream",
     "text": [
      "  6%|▌         | 26/469 [00:00<00:07, 59.94it/s]"
     ]
    },
    {
     "name": "stdout",
     "output_type": "stream",
     "text": [
      "Step 18,300 (N samples: 2,342,400), Loss: 141.0802 (Recon: 134.3416, KL: 6.7387) Grad: 198.6134\n"
     ]
    },
    {
     "name": "stderr",
     "output_type": "stream",
     "text": [
      " 27%|██▋       | 125/469 [00:01<00:04, 83.25it/s]"
     ]
    },
    {
     "name": "stdout",
     "output_type": "stream",
     "text": [
      "Step 18,400 (N samples: 2,355,200), Loss: 129.5241 (Recon: 122.4258, KL: 7.0983) Grad: 148.5705\n"
     ]
    },
    {
     "name": "stderr",
     "output_type": "stream",
     "text": [
      " 48%|████▊     | 225/469 [00:02<00:02, 82.42it/s]"
     ]
    },
    {
     "name": "stdout",
     "output_type": "stream",
     "text": [
      "Step 18,500 (N samples: 2,368,000), Loss: 137.7400 (Recon: 130.7301, KL: 7.0099) Grad: 234.7421\n"
     ]
    },
    {
     "name": "stderr",
     "output_type": "stream",
     "text": [
      " 69%|██████▉   | 325/469 [00:04<00:01, 83.50it/s]"
     ]
    },
    {
     "name": "stdout",
     "output_type": "stream",
     "text": [
      "Step 18,600 (N samples: 2,380,800), Loss: 140.6011 (Recon: 133.4902, KL: 7.1109) Grad: 162.4872\n"
     ]
    },
    {
     "name": "stderr",
     "output_type": "stream",
     "text": [
      " 90%|█████████ | 424/469 [00:05<00:00, 83.15it/s]"
     ]
    },
    {
     "name": "stdout",
     "output_type": "stream",
     "text": [
      "Step 18,700 (N samples: 2,393,600), Loss: 138.1659 (Recon: 131.2917, KL: 6.8742) Grad: 149.7884\n"
     ]
    },
    {
     "name": "stderr",
     "output_type": "stream",
     "text": [
      "100%|██████████| 469/469 [00:05<00:00, 80.00it/s]\n",
      "Testing: 100%|██████████| 79/79 [00:00<00:00, 86.94it/s] \n"
     ]
    },
    {
     "name": "stdout",
     "output_type": "stream",
     "text": [
      "====> Test set loss: 142.4371 (BCE: 135.3567, KLD: 7.0804)\n",
      "Epoch 41/50\n"
     ]
    },
    {
     "name": "stderr",
     "output_type": "stream",
     "text": [
      " 12%|█▏        | 54/469 [00:00<00:05, 74.62it/s]"
     ]
    },
    {
     "name": "stdout",
     "output_type": "stream",
     "text": [
      "Step 18,800 (N samples: 2,406,400), Loss: 137.5943 (Recon: 130.7342, KL: 6.8601) Grad: 243.1096\n"
     ]
    },
    {
     "name": "stderr",
     "output_type": "stream",
     "text": [
      " 33%|███▎      | 155/469 [00:02<00:03, 84.17it/s]"
     ]
    },
    {
     "name": "stdout",
     "output_type": "stream",
     "text": [
      "Step 18,900 (N samples: 2,419,200), Loss: 137.3632 (Recon: 130.1120, KL: 7.2512) Grad: 251.6034\n"
     ]
    },
    {
     "name": "stderr",
     "output_type": "stream",
     "text": [
      " 54%|█████▍    | 255/469 [00:03<00:02, 85.63it/s]"
     ]
    },
    {
     "name": "stdout",
     "output_type": "stream",
     "text": [
      "Step 19,000 (N samples: 2,432,000), Loss: 139.7985 (Recon: 132.5848, KL: 7.2137) Grad: 145.9822\n"
     ]
    },
    {
     "name": "stderr",
     "output_type": "stream",
     "text": [
      " 75%|███████▌  | 354/469 [00:04<00:01, 82.72it/s]"
     ]
    },
    {
     "name": "stdout",
     "output_type": "stream",
     "text": [
      "Step 19,100 (N samples: 2,444,800), Loss: 135.5243 (Recon: 128.7274, KL: 6.7969) Grad: 156.9020\n"
     ]
    },
    {
     "name": "stderr",
     "output_type": "stream",
     "text": [
      " 97%|█████████▋| 454/469 [00:05<00:00, 85.05it/s]"
     ]
    },
    {
     "name": "stdout",
     "output_type": "stream",
     "text": [
      "Step 19,200 (N samples: 2,457,600), Loss: 139.0867 (Recon: 132.2926, KL: 6.7941) Grad: 222.4517\n"
     ]
    },
    {
     "name": "stderr",
     "output_type": "stream",
     "text": [
      "100%|██████████| 469/469 [00:05<00:00, 79.67it/s]\n",
      "Testing: 100%|██████████| 79/79 [00:00<00:00, 87.59it/s] \n"
     ]
    },
    {
     "name": "stdout",
     "output_type": "stream",
     "text": [
      "====> Test set loss: 138.8417 (BCE: 131.7803, KLD: 7.0614)\n",
      "Epoch 42/50\n"
     ]
    },
    {
     "name": "stderr",
     "output_type": "stream",
     "text": [
      " 17%|█▋        | 80/469 [00:01<00:04, 82.40it/s]"
     ]
    },
    {
     "name": "stdout",
     "output_type": "stream",
     "text": [
      "Step 19,300 (N samples: 2,470,400), Loss: 130.1405 (Recon: 123.3860, KL: 6.7546) Grad: 133.0792\n"
     ]
    },
    {
     "name": "stderr",
     "output_type": "stream",
     "text": [
      " 40%|████      | 189/469 [00:02<00:03, 84.67it/s]"
     ]
    },
    {
     "name": "stdout",
     "output_type": "stream",
     "text": [
      "Step 19,400 (N samples: 2,483,200), Loss: 141.6914 (Recon: 134.8473, KL: 6.8441) Grad: 257.8501\n"
     ]
    },
    {
     "name": "stderr",
     "output_type": "stream",
     "text": [
      " 61%|██████▏   | 288/469 [00:03<00:02, 86.03it/s]"
     ]
    },
    {
     "name": "stdout",
     "output_type": "stream",
     "text": [
      "Step 19,500 (N samples: 2,496,000), Loss: 138.7715 (Recon: 131.8557, KL: 6.9158) Grad: 159.5419\n"
     ]
    },
    {
     "name": "stderr",
     "output_type": "stream",
     "text": [
      " 83%|████████▎ | 387/469 [00:04<00:00, 84.05it/s]"
     ]
    },
    {
     "name": "stdout",
     "output_type": "stream",
     "text": [
      "Step 19,600 (N samples: 2,508,800), Loss: 132.9719 (Recon: 125.8059, KL: 7.1660) Grad: 197.4186\n"
     ]
    },
    {
     "name": "stderr",
     "output_type": "stream",
     "text": [
      "100%|██████████| 469/469 [00:05<00:00, 79.94it/s]\n",
      "Testing: 100%|██████████| 79/79 [00:00<00:00, 87.19it/s] \n"
     ]
    },
    {
     "name": "stdout",
     "output_type": "stream",
     "text": [
      "====> Test set loss: 139.9972 (BCE: 133.0884, KLD: 6.9088)\n",
      "Epoch 43/50\n"
     ]
    },
    {
     "name": "stderr",
     "output_type": "stream",
     "text": [
      "  4%|▎         | 17/469 [00:00<00:09, 47.57it/s]"
     ]
    },
    {
     "name": "stdout",
     "output_type": "stream",
     "text": [
      "Step 19,700 (N samples: 2,521,600), Loss: 141.1680 (Recon: 134.4372, KL: 6.7308) Grad: 158.3226\n"
     ]
    },
    {
     "name": "stderr",
     "output_type": "stream",
     "text": [
      " 25%|██▍       | 115/469 [00:01<00:04, 80.67it/s]"
     ]
    },
    {
     "name": "stdout",
     "output_type": "stream",
     "text": [
      "Step 19,800 (N samples: 2,534,400), Loss: 135.3365 (Recon: 128.3010, KL: 7.0355) Grad: 265.1978\n"
     ]
    },
    {
     "name": "stderr",
     "output_type": "stream",
     "text": [
      " 46%|████▌     | 214/469 [00:02<00:03, 82.22it/s]"
     ]
    },
    {
     "name": "stdout",
     "output_type": "stream",
     "text": [
      "Step 19,900 (N samples: 2,547,200), Loss: 144.5594 (Recon: 137.3168, KL: 7.2426) Grad: 202.3362\n"
     ]
    },
    {
     "name": "stderr",
     "output_type": "stream",
     "text": [
      " 67%|██████▋   | 313/469 [00:04<00:01, 81.81it/s]"
     ]
    },
    {
     "name": "stdout",
     "output_type": "stream",
     "text": [
      "Step 20,000 (N samples: 2,560,000), Loss: 140.2708 (Recon: 133.2062, KL: 7.0647) Grad: 219.2091\n"
     ]
    },
    {
     "name": "stderr",
     "output_type": "stream",
     "text": [
      " 88%|████████▊ | 413/469 [00:05<00:00, 85.59it/s]"
     ]
    },
    {
     "name": "stdout",
     "output_type": "stream",
     "text": [
      "Step 20,100 (N samples: 2,572,800), Loss: 141.9174 (Recon: 134.6625, KL: 7.2549) Grad: 168.5698\n"
     ]
    },
    {
     "name": "stderr",
     "output_type": "stream",
     "text": [
      "100%|██████████| 469/469 [00:05<00:00, 79.17it/s]\n",
      "Testing: 100%|██████████| 79/79 [00:00<00:00, 84.88it/s]\n"
     ]
    },
    {
     "name": "stdout",
     "output_type": "stream",
     "text": [
      "====> Test set loss: 139.3699 (BCE: 132.1254, KLD: 7.2445)\n",
      "Epoch 44/50\n"
     ]
    },
    {
     "name": "stderr",
     "output_type": "stream",
     "text": [
      " 10%|█         | 48/469 [00:00<00:05, 74.29it/s]"
     ]
    },
    {
     "name": "stdout",
     "output_type": "stream",
     "text": [
      "Step 20,200 (N samples: 2,585,600), Loss: 142.5611 (Recon: 135.4614, KL: 7.0997) Grad: 147.8271\n"
     ]
    },
    {
     "name": "stderr",
     "output_type": "stream",
     "text": [
      " 31%|███▏      | 147/469 [00:02<00:03, 82.90it/s]"
     ]
    },
    {
     "name": "stdout",
     "output_type": "stream",
     "text": [
      "Step 20,300 (N samples: 2,598,400), Loss: 137.0348 (Recon: 130.0297, KL: 7.0051) Grad: 165.2927\n"
     ]
    },
    {
     "name": "stderr",
     "output_type": "stream",
     "text": [
      " 52%|█████▏    | 246/469 [00:03<00:02, 83.02it/s]"
     ]
    },
    {
     "name": "stdout",
     "output_type": "stream",
     "text": [
      "Step 20,400 (N samples: 2,611,200), Loss: 142.8480 (Recon: 135.8885, KL: 6.9595) Grad: 147.7710\n"
     ]
    },
    {
     "name": "stderr",
     "output_type": "stream",
     "text": [
      " 74%|███████▎  | 345/469 [00:04<00:01, 83.31it/s]"
     ]
    },
    {
     "name": "stdout",
     "output_type": "stream",
     "text": [
      "Step 20,500 (N samples: 2,624,000), Loss: 141.4731 (Recon: 134.4108, KL: 7.0623) Grad: 181.2222\n"
     ]
    },
    {
     "name": "stderr",
     "output_type": "stream",
     "text": [
      " 95%|█████████▌| 446/469 [00:05<00:00, 83.01it/s]"
     ]
    },
    {
     "name": "stdout",
     "output_type": "stream",
     "text": [
      "Step 20,600 (N samples: 2,636,800), Loss: 138.6527 (Recon: 131.5814, KL: 7.0713) Grad: 209.8599\n"
     ]
    },
    {
     "name": "stderr",
     "output_type": "stream",
     "text": [
      "100%|██████████| 469/469 [00:05<00:00, 79.91it/s]\n",
      "Testing: 100%|██████████| 79/79 [00:00<00:00, 86.37it/s] \n"
     ]
    },
    {
     "name": "stdout",
     "output_type": "stream",
     "text": [
      "====> Test set loss: 139.9589 (BCE: 132.9657, KLD: 6.9932)\n",
      "Epoch 45/50\n"
     ]
    },
    {
     "name": "stderr",
     "output_type": "stream",
     "text": [
      " 17%|█▋        | 82/469 [00:01<00:04, 82.13it/s]"
     ]
    },
    {
     "name": "stdout",
     "output_type": "stream",
     "text": [
      "Step 20,700 (N samples: 2,649,600), Loss: 145.9220 (Recon: 138.9508, KL: 6.9712) Grad: 221.4048\n"
     ]
    },
    {
     "name": "stderr",
     "output_type": "stream",
     "text": [
      " 39%|███▉      | 182/469 [00:02<00:03, 84.54it/s]"
     ]
    },
    {
     "name": "stdout",
     "output_type": "stream",
     "text": [
      "Step 20,800 (N samples: 2,662,400), Loss: 142.7072 (Recon: 135.5853, KL: 7.1220) Grad: 307.3300\n"
     ]
    },
    {
     "name": "stderr",
     "output_type": "stream",
     "text": [
      " 59%|█████▊    | 275/469 [00:03<00:02, 86.71it/s]"
     ]
    },
    {
     "name": "stdout",
     "output_type": "stream",
     "text": [
      "Step 20,900 (N samples: 2,675,200), Loss: 147.2502 (Recon: 140.4267, KL: 6.8235) Grad: 243.6846\n"
     ]
    },
    {
     "name": "stderr",
     "output_type": "stream",
     "text": [
      " 80%|███████▉  | 375/469 [00:04<00:01, 81.43it/s]"
     ]
    },
    {
     "name": "stdout",
     "output_type": "stream",
     "text": [
      "Step 21,000 (N samples: 2,688,000), Loss: 136.3877 (Recon: 129.5130, KL: 6.8748) Grad: 210.0971\n"
     ]
    },
    {
     "name": "stderr",
     "output_type": "stream",
     "text": [
      "100%|██████████| 469/469 [00:05<00:00, 79.73it/s]\n"
     ]
    },
    {
     "name": "stdout",
     "output_type": "stream",
     "text": [
      "Step 21,100 (N samples: 2,700,800), Loss: 135.7249 (Recon: 128.7860, KL: 6.9388) Grad: 265.0254\n"
     ]
    },
    {
     "name": "stderr",
     "output_type": "stream",
     "text": [
      "Testing: 100%|██████████| 79/79 [00:00<00:00, 85.35it/s] \n"
     ]
    },
    {
     "name": "stdout",
     "output_type": "stream",
     "text": [
      "====> Test set loss: 142.1597 (BCE: 135.1086, KLD: 7.0510)\n",
      "Epoch 46/50\n"
     ]
    },
    {
     "name": "stderr",
     "output_type": "stream",
     "text": [
      " 23%|██▎       | 110/469 [00:01<00:04, 84.54it/s]"
     ]
    },
    {
     "name": "stdout",
     "output_type": "stream",
     "text": [
      "Step 21,200 (N samples: 2,713,600), Loss: 132.6538 (Recon: 125.4445, KL: 7.2093) Grad: 180.6373\n"
     ]
    },
    {
     "name": "stderr",
     "output_type": "stream",
     "text": [
      " 45%|████▍     | 209/469 [00:02<00:03, 83.60it/s]"
     ]
    },
    {
     "name": "stdout",
     "output_type": "stream",
     "text": [
      "Step 21,300 (N samples: 2,726,400), Loss: 135.7087 (Recon: 128.7747, KL: 6.9340) Grad: 236.6416\n"
     ]
    },
    {
     "name": "stderr",
     "output_type": "stream",
     "text": [
      " 66%|██████▌   | 308/469 [00:03<00:01, 81.63it/s]"
     ]
    },
    {
     "name": "stdout",
     "output_type": "stream",
     "text": [
      "Step 21,400 (N samples: 2,739,200), Loss: 132.9581 (Recon: 125.7919, KL: 7.1662) Grad: 197.0502\n"
     ]
    },
    {
     "name": "stderr",
     "output_type": "stream",
     "text": [
      " 87%|████████▋ | 408/469 [00:05<00:00, 81.83it/s]"
     ]
    },
    {
     "name": "stdout",
     "output_type": "stream",
     "text": [
      "Step 21,500 (N samples: 2,752,000), Loss: 140.0867 (Recon: 133.0093, KL: 7.0775) Grad: 389.1310\n"
     ]
    },
    {
     "name": "stderr",
     "output_type": "stream",
     "text": [
      "100%|██████████| 469/469 [00:05<00:00, 79.05it/s]\n",
      "Testing: 100%|██████████| 79/79 [00:00<00:00, 86.09it/s] \n"
     ]
    },
    {
     "name": "stdout",
     "output_type": "stream",
     "text": [
      "====> Test set loss: 138.2311 (BCE: 131.3108, KLD: 6.9203)\n",
      "Epoch 47/50\n"
     ]
    },
    {
     "name": "stderr",
     "output_type": "stream",
     "text": [
      "  8%|▊         | 37/469 [00:00<00:06, 69.99it/s]"
     ]
    },
    {
     "name": "stdout",
     "output_type": "stream",
     "text": [
      "Step 21,600 (N samples: 2,764,800), Loss: 135.3768 (Recon: 128.3054, KL: 7.0714) Grad: 156.0316\n"
     ]
    },
    {
     "name": "stderr",
     "output_type": "stream",
     "text": [
      " 29%|██▉       | 137/469 [00:01<00:03, 84.54it/s]"
     ]
    },
    {
     "name": "stdout",
     "output_type": "stream",
     "text": [
      "Step 21,700 (N samples: 2,777,600), Loss: 133.8844 (Recon: 126.9088, KL: 6.9755) Grad: 144.5947\n"
     ]
    },
    {
     "name": "stderr",
     "output_type": "stream",
     "text": [
      " 50%|█████     | 236/469 [00:03<00:02, 82.88it/s]"
     ]
    },
    {
     "name": "stdout",
     "output_type": "stream",
     "text": [
      "Step 21,800 (N samples: 2,790,400), Loss: 135.2895 (Recon: 127.9730, KL: 7.3165) Grad: 225.5847\n"
     ]
    },
    {
     "name": "stderr",
     "output_type": "stream",
     "text": [
      " 72%|███████▏  | 337/469 [00:04<00:01, 85.59it/s]"
     ]
    },
    {
     "name": "stdout",
     "output_type": "stream",
     "text": [
      "Step 21,900 (N samples: 2,803,200), Loss: 139.1140 (Recon: 132.1990, KL: 6.9150) Grad: 157.0906\n"
     ]
    },
    {
     "name": "stderr",
     "output_type": "stream",
     "text": [
      " 93%|█████████▎| 437/469 [00:05<00:00, 84.37it/s]"
     ]
    },
    {
     "name": "stdout",
     "output_type": "stream",
     "text": [
      "Step 22,000 (N samples: 2,816,000), Loss: 148.8395 (Recon: 141.7838, KL: 7.0557) Grad: 185.1831\n"
     ]
    },
    {
     "name": "stderr",
     "output_type": "stream",
     "text": [
      "100%|██████████| 469/469 [00:05<00:00, 80.08it/s]\n",
      "Testing: 100%|██████████| 79/79 [00:00<00:00, 87.16it/s]\n"
     ]
    },
    {
     "name": "stdout",
     "output_type": "stream",
     "text": [
      "====> Test set loss: 139.4360 (BCE: 132.3711, KLD: 7.0649)\n",
      "Epoch 48/50\n"
     ]
    },
    {
     "name": "stderr",
     "output_type": "stream",
     "text": [
      " 15%|█▌        | 72/469 [00:01<00:05, 79.24it/s]"
     ]
    },
    {
     "name": "stdout",
     "output_type": "stream",
     "text": [
      "Step 22,100 (N samples: 2,828,800), Loss: 148.8775 (Recon: 141.9675, KL: 6.9100) Grad: 263.7695\n"
     ]
    },
    {
     "name": "stderr",
     "output_type": "stream",
     "text": [
      " 37%|███▋      | 173/469 [00:02<00:03, 82.83it/s]"
     ]
    },
    {
     "name": "stdout",
     "output_type": "stream",
     "text": [
      "Step 22,200 (N samples: 2,841,600), Loss: 136.8073 (Recon: 129.5200, KL: 7.2874) Grad: 293.2374\n"
     ]
    },
    {
     "name": "stderr",
     "output_type": "stream",
     "text": [
      " 58%|█████▊    | 273/469 [00:03<00:02, 85.52it/s]"
     ]
    },
    {
     "name": "stdout",
     "output_type": "stream",
     "text": [
      "Step 22,300 (N samples: 2,854,400), Loss: 139.8550 (Recon: 132.6898, KL: 7.1652) Grad: 192.7213\n"
     ]
    },
    {
     "name": "stderr",
     "output_type": "stream",
     "text": [
      " 80%|███████▉  | 374/469 [00:04<00:01, 85.09it/s]"
     ]
    },
    {
     "name": "stdout",
     "output_type": "stream",
     "text": [
      "Step 22,400 (N samples: 2,867,200), Loss: 138.5391 (Recon: 131.3614, KL: 7.1778) Grad: 199.4567\n"
     ]
    },
    {
     "name": "stderr",
     "output_type": "stream",
     "text": [
      "100%|██████████| 469/469 [00:05<00:00, 80.13it/s]\n"
     ]
    },
    {
     "name": "stdout",
     "output_type": "stream",
     "text": [
      "Step 22,500 (N samples: 2,880,000), Loss: 143.9444 (Recon: 136.7946, KL: 7.1498) Grad: 172.1973\n"
     ]
    },
    {
     "name": "stderr",
     "output_type": "stream",
     "text": [
      "Testing: 100%|██████████| 79/79 [00:00<00:00, 86.43it/s] \n"
     ]
    },
    {
     "name": "stdout",
     "output_type": "stream",
     "text": [
      "====> Test set loss: 137.1687 (BCE: 130.1040, KLD: 7.0648)\n",
      "Epoch 49/50\n"
     ]
    },
    {
     "name": "stderr",
     "output_type": "stream",
     "text": [
      " 22%|██▏       | 101/469 [00:01<00:04, 83.19it/s]"
     ]
    },
    {
     "name": "stdout",
     "output_type": "stream",
     "text": [
      "Step 22,600 (N samples: 2,892,800), Loss: 144.6301 (Recon: 137.7796, KL: 6.8505) Grad: 119.6795\n"
     ]
    },
    {
     "name": "stderr",
     "output_type": "stream",
     "text": [
      " 43%|████▎     | 200/469 [00:02<00:03, 83.53it/s]"
     ]
    },
    {
     "name": "stdout",
     "output_type": "stream",
     "text": [
      "Step 22,700 (N samples: 2,905,600), Loss: 136.1007 (Recon: 128.9778, KL: 7.1229) Grad: 294.8253\n"
     ]
    },
    {
     "name": "stderr",
     "output_type": "stream",
     "text": [
      " 64%|██████▍   | 301/469 [00:03<00:01, 85.09it/s]"
     ]
    },
    {
     "name": "stdout",
     "output_type": "stream",
     "text": [
      "Step 22,800 (N samples: 2,918,400), Loss: 141.8941 (Recon: 134.8738, KL: 7.0203) Grad: 251.3780\n"
     ]
    },
    {
     "name": "stderr",
     "output_type": "stream",
     "text": [
      " 85%|████████▌ | 400/469 [00:05<00:00, 82.46it/s]"
     ]
    },
    {
     "name": "stdout",
     "output_type": "stream",
     "text": [
      "Step 22,900 (N samples: 2,931,200), Loss: 138.1924 (Recon: 131.1969, KL: 6.9955) Grad: 187.8253\n"
     ]
    },
    {
     "name": "stderr",
     "output_type": "stream",
     "text": [
      "100%|██████████| 469/469 [00:05<00:00, 79.69it/s]\n",
      "Testing: 100%|██████████| 79/79 [00:00<00:00, 88.31it/s]\n"
     ]
    },
    {
     "name": "stdout",
     "output_type": "stream",
     "text": [
      "====> Test set loss: 139.9523 (BCE: 132.8960, KLD: 7.0562)\n",
      "Epoch 50/50\n"
     ]
    },
    {
     "name": "stderr",
     "output_type": "stream",
     "text": [
      "  7%|▋         | 35/469 [00:00<00:06, 68.66it/s]"
     ]
    },
    {
     "name": "stdout",
     "output_type": "stream",
     "text": [
      "Step 23,000 (N samples: 2,944,000), Loss: 143.5274 (Recon: 136.3694, KL: 7.1580) Grad: 239.4504\n"
     ]
    },
    {
     "name": "stderr",
     "output_type": "stream",
     "text": [
      " 29%|██▉       | 136/469 [00:01<00:03, 85.92it/s]"
     ]
    },
    {
     "name": "stdout",
     "output_type": "stream",
     "text": [
      "Step 23,100 (N samples: 2,956,800), Loss: 136.2597 (Recon: 129.1358, KL: 7.1239) Grad: 141.6031\n"
     ]
    },
    {
     "name": "stderr",
     "output_type": "stream",
     "text": [
      " 50%|█████     | 236/469 [00:03<00:02, 84.56it/s]"
     ]
    },
    {
     "name": "stdout",
     "output_type": "stream",
     "text": [
      "Step 23,200 (N samples: 2,969,600), Loss: 138.5655 (Recon: 131.2145, KL: 7.3511) Grad: 202.9762\n"
     ]
    },
    {
     "name": "stderr",
     "output_type": "stream",
     "text": [
      " 71%|███████▏  | 335/469 [00:04<00:01, 84.59it/s]"
     ]
    },
    {
     "name": "stdout",
     "output_type": "stream",
     "text": [
      "Step 23,300 (N samples: 2,982,400), Loss: 133.7838 (Recon: 126.8973, KL: 6.8866) Grad: 162.2800\n"
     ]
    },
    {
     "name": "stderr",
     "output_type": "stream",
     "text": [
      " 93%|█████████▎| 434/469 [00:05<00:00, 82.31it/s]"
     ]
    },
    {
     "name": "stdout",
     "output_type": "stream",
     "text": [
      "Step 23,400 (N samples: 2,995,200), Loss: 131.4330 (Recon: 124.3745, KL: 7.0585) Grad: 223.5721\n"
     ]
    },
    {
     "name": "stderr",
     "output_type": "stream",
     "text": [
      "100%|██████████| 469/469 [00:05<00:00, 79.74it/s]\n",
      "Testing: 100%|██████████| 79/79 [00:00<00:00, 88.46it/s] "
     ]
    },
    {
     "name": "stdout",
     "output_type": "stream",
     "text": [
      "====> Test set loss: 139.7625 (BCE: 132.8904, KLD: 6.8720)\n"
     ]
    },
    {
     "name": "stderr",
     "output_type": "stream",
     "text": [
      "\n"
     ]
    }
   ],
   "source": [
    "prev_updates = 0\n",
    "for epoch in range(num_epochs):\n",
    "    print(f\"Epoch {epoch+1}/{num_epochs}\")\n",
    "    prev_updates = train(model, train_loader, optimizer, prev_updates, writer=writer)\n",
    "    test(model, test_loader, prev_updates, writer=writer)"
   ]
  },
  {
   "cell_type": "code",
   "execution_count": 5,
   "metadata": {},
   "outputs": [
    {
     "name": "stderr",
     "output_type": "stream",
     "text": [
      "Encoding: 100%|██████████| 469/469 [00:04<00:00, 112.25it/s]\n"
     ]
    },
    {
     "data": {
      "image/png": "[encoded data removed]",
      "text/plain": [
       "<Figure size 800x800 with 64 Axes>"
      ]
     },
     "metadata": {},
     "output_type": "display_data"
    },
    {
     "data": {
      "image/png": "[encoded data removed]",
      "text/plain": [
       "<Figure size 1000x1000 with 2 Axes>"
      ]
     },
     "metadata": {},
     "output_type": "display_data"
    },
    {
     "data": {
      "image/png": "[encoded data removed]",
      "text/plain": [
       "<Figure size 1000x1000 with 2 Axes>"
      ]
     },
     "metadata": {},
     "output_type": "display_data"
    },
    {
     "data": {
      "image/png": "[encoded data removed]",
      "text/plain": [
       "<Figure size 1000x500 with 2 Axes>"
      ]
     },
     "metadata": {},
     "output_type": "display_data"
    },
    {
     "data": {
      "image/png": "[encoded data removed]",
      "text/plain": [
       "<Figure size 1500x100 with 15 Axes>"
      ]
     },
     "metadata": {},
     "output_type": "display_data"
    }
   ],
   "source": [
    "import matplotlib.pyplot as plt\n",
    "\n",
    "z = torch.randn(64, latent_dim).to(device)\n",
    "samples = model.decode(z)\n",
    "# samples = torch.sigmoid(samples)\n",
    "\n",
    "# print first sample\n",
    "# print(samples[0])\n",
    "\n",
    "# Plot the generated images\n",
    "fig, ax = plt.subplots(8, 8, figsize=(8, 8))\n",
    "for i in range(8):\n",
    "    for j in range(8):\n",
    "        ax[i, j].imshow(\n",
    "            samples[i * 8 + j].view(28, 28).cpu().detach().numpy(), cmap=\"gray\"\n",
    "        )\n",
    "        ax[i, j].axis(\"off\")\n",
    "\n",
    "# plt.show()\n",
    "plt.savefig(\"vae_mnist.webp\")\n",
    "\n",
    "# encode and plot the z values for the train set\n",
    "model.eval()\n",
    "z_all = []\n",
    "y_all = []\n",
    "with torch.no_grad():\n",
    "    for data, target in tqdm(train_loader, desc=\"Encoding\"):\n",
    "        data = data.to(device)\n",
    "        output = model(data, compute_loss=False)\n",
    "        z_all.append(output.z_sample.cpu().numpy())\n",
    "        y_all.append(target.numpy())\n",
    "import numpy as np\n",
    "\n",
    "z_all = np.concatenate(z_all, axis=0)\n",
    "y_all = np.concatenate(y_all, axis=0)\n",
    "plt.figure(figsize=(10, 10))\n",
    "plt.scatter(z_all[:, 0], z_all[:, 1], c=y_all, cmap=\"tab10\")\n",
    "plt.colorbar()\n",
    "# plt.show()\n",
    "plt.savefig(\"vae_mnist_2d_scatter.webp\")\n",
    "# plot as 2d histogram, log scale\n",
    "from matplotlib.colors import LogNorm\n",
    "\n",
    "plt.figure(figsize=(10, 10))\n",
    "plt.hist2d(z_all[:, 0], z_all[:, 1], bins=128, cmap=\"Blues\", norm=LogNorm())\n",
    "plt.colorbar()\n",
    "# plt.show()\n",
    "plt.savefig(\"vae_mnist_2d_hist.webp\")\n",
    "# plot 1d histograms\n",
    "fig, ax = plt.subplots(1, 2, figsize=(10, 5))\n",
    "ax[0].hist(z_all[:, 0], bins=100, color=\"b\", alpha=0.7)\n",
    "ax[0].set_title(\"z1\")\n",
    "ax[1].hist(z_all[:, 1], bins=100, color=\"b\", alpha=0.7)\n",
    "ax[1].set_title(\"z2\")\n",
    "# plt.show()\n",
    "plt.savefig(\"vae_mnist_1d_hist.webp\")\n",
    "n = 15\n",
    "z1 = torch.linspace(-0, 1, n)\n",
    "z2 = torch.zeros_like(z1) + 2\n",
    "z = torch.stack([z1, z2], dim=-1).to(device)\n",
    "samples = model.decode(z)\n",
    "samples = torch.sigmoid(samples)\n",
    "\n",
    "# Plot the generated images\n",
    "fig, ax = plt.subplots(1, n, figsize=(n, 1))\n",
    "for i in range(n):\n",
    "    ax[i].imshow(samples[i].view(28, 28).cpu().detach().numpy(), cmap=\"gray\")\n",
    "    ax[i].axis(\"off\")\n",
    "\n",
    "plt.savefig(\"vae_mnist_interp.webp\")"
   ]
  }
 ],
 "metadata": {
  "kernelspec": {
   "display_name": "timbre",
   "language": "python",
   "name": "python3"
  },
  "language_info": {
   "codemirror_mode": {
    "name": "ipython",
    "version": 3
   },
   "file_extension": ".py",
   "mimetype": "text/x-python",
   "name": "python",
   "nbconvert_exporter": "python",
   "pygments_lexer": "ipython3",
   "version": "3.11.6"
  }
 },
 "nbformat": 4,
 "nbformat_minor": 2
}
